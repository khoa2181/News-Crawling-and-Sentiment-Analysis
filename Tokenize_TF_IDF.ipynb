{
 "cells": [
  {
   "cell_type": "code",
   "execution_count": 1,
   "outputs": [],
   "source": [
    "from vncorenlp import VnCoreNLP\n",
    "import pandas as pd\n",
    "import re\n",
    "import seaborn as sns\n",
    "import numpy as np\n",
    "from pyvi import ViTokenizer\n",
    "import wordcloud\n",
    "import matplotlib.pyplot as plt\n",
    "%matplotlib inline\n",
    "import glob\n",
    "from collections import Counter\n",
    "from string import punctuation\n",
    "import json\n",
    "import os\n",
    "from sklearn.feature_extraction.text import TfidfVectorizer\n",
    "from sklearn.model_selection import train_test_split\n",
    "from sklearn.ensemble import RandomForestClassifier\n",
    "from sklearn.linear_model import LogisticRegression\n",
    "from sklearn.svm import SVC\n",
    "from sklearn.metrics import confusion_matrix, classification_report, ConfusionMatrixDisplay"
   ],
   "metadata": {
    "collapsed": false,
    "pycharm": {
     "name": "#%%\n"
    }
   }
  },
  {
   "cell_type": "code",
   "execution_count": 2,
   "outputs": [],
   "source": [
    "rdrsegmenter = VnCoreNLP(\"VnCoreNLP/VnCoreNLP-1.1.1.jar\", annotators=\"wseg,pos,ner\", max_heap_size='-Xmx2g')"
   ],
   "metadata": {
    "collapsed": false,
    "pycharm": {
     "name": "#%%\n"
    }
   }
  },
  {
   "cell_type": "code",
   "execution_count": 2,
   "outputs": [],
   "source": [],
   "metadata": {
    "collapsed": false,
    "pycharm": {
     "name": "#%%\n"
    }
   }
  },
  {
   "cell_type": "code",
   "execution_count": 3,
   "outputs": [],
   "source": [
    "macp = pd.read_excel('data/Macp.xlsx')\n",
    "macp = macp.dropna()\n",
    "tenct = macp['Tên Công ty'].tolist()\n",
    "for i in range(len(tenct)):\n",
    "  tenct[i] = str(tenct[i]).lower()\n",
    "#tenct[:5]\n",
    "tenma = macp['Mã '].tolist()\n",
    "\n",
    "def del_test(text):\n",
    "  year = ['năm 2021', 'năm 2020', 'năm 2019', 'năm 2018', 'năm 2017', 'năm 2016', 'năm 2015', 'năm 2014', 'năm 2013', 'năm 2012', 'năm 2011', 'năm 2010', 'Năm 2021', 'Năm 2020', 'Năm 2019', 'Năm 2018', 'Năm 2017', 'Năm 2016', 'Năm 2015', 'Năm 2014', 'Năm 2013', 'Năm 2012', 'Năm 2011', 'Năm 2010', '2021', '2020', '2019', '2018', '2017', '2016', '2015', '2014', '2013', '2012', '2011', '2010']\n",
    "  month = ['tháng 1', 'tháng 2', 'tháng 3', 'tháng 4', 'tháng 5', 'tháng 6', 'tháng 7', 'tháng 8', 'tháng 9', 'tháng 10', 'tháng 11', 'tháng 12', 'Tháng 1', 'Tháng 2', 'Tháng 3', 'Tháng 4', 'Tháng 5', 'Tháng 6', 'Tháng 7', 'Tháng 8', 'Tháng 9', 'Tháng 10', 'Tháng 11', 'tháng 12']\n",
    "  quy = ['quý 1', 'quý 2', 'quý 3', 'quý 4', 'Quý 1', 'Quý 2', 'Quý 3', 'Quý 4']\n",
    "  text = text.replace('Covid-19', 'Covid')\n",
    "\n",
    "  word_segmented_text = rdrsegmenter.ner(text)[0]\n",
    "\n",
    "  for char, typ in word_segmented_text:\n",
    "    if typ == 'B-ORG' or typ == 'I-ORG' or typ == 'B-PER' or typ == 'I-PER':\n",
    "      char = char.replace('_', ' ')\n",
    "      text = text.replace(char, 'name')\n",
    "\n",
    "    if typ == \"B-LOC\" or typ == \"I-LOC\":\n",
    "      if char != 'VN':\n",
    "        char = char.replace('_', ' ')\n",
    "        text = text.replace(char,'loc')\n",
    "\n",
    "    if typ == 'O':\n",
    "      if len(re.findall('\\d*\\.?\\,?\\d+\\%', char)) > 0:\n",
    "        text = text.replace(char, 'percent')\n",
    "      if len(re.findall('\\s?\\(?[A-Z]{3,4}\\)?\\s?', char)) > 0 and char != 'USD':\n",
    "          text = text.replace(char, 'name')\n",
    "      if char in tenma:\n",
    "        text = text.replace(char, 'name')\n",
    "\n",
    "      char = char.replace('_', ' ')\n",
    "      char_lower = char.lower()\n",
    "      if char_lower in tenct:\n",
    "        text = text.replace(char, 'name')\n",
    "\n",
    "  text = text.replace('\"', '')\n",
    "  text = text.replace('”', '')\n",
    "  text = text.replace('“', '')\n",
    "  text = text.replace('.', '')\n",
    "  text = text.replace(',', '')\n",
    "  text = text.replace('(', '')\n",
    "  text = text.replace(')', '')\n",
    "  text = text.replace(':', '')\n",
    "  text = text.replace('[', '')\n",
    "  text = text.replace(']', '')\n",
    "  text = text.replace('-', ' ')\n",
    "\n",
    "  for i in punctuation:\n",
    "    text = text.replace(i, '')\n",
    "\n",
    "  text = re.sub('\\d{0,2}-?\\d{0,2}\\/\\d{1,4}', 'date', text)\n",
    "  for i in quy:\n",
    "    text = text.replace(i, 'date')\n",
    "  for i in year:\n",
    "    text = text.replace(i, 'date')\n",
    "  for i in month:\n",
    "    text = text.replace(i, 'date')\n",
    "  text = re.sub('\\d+ năm ', 'date ', text)\n",
    "  text = re.sub('\\d+ tháng ', 'date ', text)\n",
    "  text = re.sub(' \\-?\\d+\\w?', ' number', text)\n",
    "  text = text.split()\n",
    "  for i in range(len(text)):\n",
    "    if text[i].isdigit():\n",
    "      text[i] = 'number'\n",
    "  text = ' '.join(text)\n",
    "  text1 = text.split()\n",
    "  for i in range(len(text1)+1):\n",
    "    try:\n",
    "      if text1[i][0].isupper() and text1[i+1][0].isupper():\n",
    "        text = text.replace(text1[i], 'name')\n",
    "        text = text.replace(text1[i+1], 'name')\n",
    "    except:\n",
    "      pass\n",
    "  text = rdrsegmenter.tokenize(text)\n",
    "  text = ' '.join([' '.join(x) for x in text])\n",
    "  text = text.lower()\n",
    "  return text"
   ],
   "metadata": {
    "collapsed": false,
    "pycharm": {
     "name": "#%%\n"
    }
   }
  },
  {
   "cell_type": "code",
   "execution_count": 4,
   "outputs": [],
   "source": [
    "df1 = pd.read_excel('data/raw_data-1.xlsx')\n",
    "df2 = pd.read_excel('data/sample_sentence.xlsx')\n",
    "\n",
    "df2.label.replace('n', 1, inplace=True)\n",
    "df2.label.replace('p', 3, inplace=True)"
   ],
   "metadata": {
    "collapsed": false,
    "pycharm": {
     "name": "#%%\n"
    }
   }
  },
  {
   "cell_type": "code",
   "execution_count": 5,
   "outputs": [
    {
     "data": {
      "text/plain": "                                               title  label\n0  \"Trùm\" logistics Sotrans lên kế hoạch tăng gấp...      3\n1  ĐHĐCĐ SSI: \"Khen ngợi CTCK thị phần số 1, nhưn...      2\n2  Cổ phiếu nhóm Viettel giảm mạnh dù thị trường ...      2\n3  Cổ phiếu lên đỉnh, con gái chủ tịch Haxaco (HA...      2\n4  FPT: Cổ phiếu bứt phá 59%, lãi ròng 4 tháng đầ...      3\n5   Soi lợi nhuận quý 1 của các cổ phiếu \"hàng hiệu\"      2\n6  SP mua lại 49% cổ phần Skylar từ BCG Energy, x...      3\n7  DIC Corp (DIG) dự kiến phát hành gần 60 triệu ...      3\n8  Sự vực dậy sau hàng thập kỷ của những thương h...      3\n9  8 sai lầm kể cả nhà đầu tư chứng khoán lâu năm...      2",
      "text/html": "<div>\n<style scoped>\n    .dataframe tbody tr th:only-of-type {\n        vertical-align: middle;\n    }\n\n    .dataframe tbody tr th {\n        vertical-align: top;\n    }\n\n    .dataframe thead th {\n        text-align: right;\n    }\n</style>\n<table border=\"1\" class=\"dataframe\">\n  <thead>\n    <tr style=\"text-align: right;\">\n      <th></th>\n      <th>title</th>\n      <th>label</th>\n    </tr>\n  </thead>\n  <tbody>\n    <tr>\n      <th>0</th>\n      <td>\"Trùm\" logistics Sotrans lên kế hoạch tăng gấp...</td>\n      <td>3</td>\n    </tr>\n    <tr>\n      <th>1</th>\n      <td>ĐHĐCĐ SSI: \"Khen ngợi CTCK thị phần số 1, nhưn...</td>\n      <td>2</td>\n    </tr>\n    <tr>\n      <th>2</th>\n      <td>Cổ phiếu nhóm Viettel giảm mạnh dù thị trường ...</td>\n      <td>2</td>\n    </tr>\n    <tr>\n      <th>3</th>\n      <td>Cổ phiếu lên đỉnh, con gái chủ tịch Haxaco (HA...</td>\n      <td>2</td>\n    </tr>\n    <tr>\n      <th>4</th>\n      <td>FPT: Cổ phiếu bứt phá 59%, lãi ròng 4 tháng đầ...</td>\n      <td>3</td>\n    </tr>\n    <tr>\n      <th>5</th>\n      <td>Soi lợi nhuận quý 1 của các cổ phiếu \"hàng hiệu\"</td>\n      <td>2</td>\n    </tr>\n    <tr>\n      <th>6</th>\n      <td>SP mua lại 49% cổ phần Skylar từ BCG Energy, x...</td>\n      <td>3</td>\n    </tr>\n    <tr>\n      <th>7</th>\n      <td>DIC Corp (DIG) dự kiến phát hành gần 60 triệu ...</td>\n      <td>3</td>\n    </tr>\n    <tr>\n      <th>8</th>\n      <td>Sự vực dậy sau hàng thập kỷ của những thương h...</td>\n      <td>3</td>\n    </tr>\n    <tr>\n      <th>9</th>\n      <td>8 sai lầm kể cả nhà đầu tư chứng khoán lâu năm...</td>\n      <td>2</td>\n    </tr>\n  </tbody>\n</table>\n</div>"
     },
     "execution_count": 5,
     "metadata": {},
     "output_type": "execute_result"
    }
   ],
   "source": [
    "data = pd.concat([df1,df2], ignore_index=True)\n",
    "data.head(10)"
   ],
   "metadata": {
    "collapsed": false,
    "pycharm": {
     "name": "#%%\n"
    }
   }
  },
  {
   "cell_type": "code",
   "execution_count": 6,
   "outputs": [],
   "source": [
    "# new_title = []\n",
    "# title = data['title'].tolist()\n",
    "# for i in title:\n",
    "#   new_title.append(del_test(i))\n",
    "# new_title"
   ],
   "metadata": {
    "collapsed": false,
    "pycharm": {
     "name": "#%%\n"
    }
   }
  },
  {
   "cell_type": "code",
   "execution_count": 7,
   "outputs": [],
   "source": [
    "# new_data = pd.DataFrame()\n",
    "# new_data['title'] = new_title\n",
    "# new_data['label'] = data['label']\n",
    "# new_data"
   ],
   "metadata": {
    "collapsed": false,
    "pycharm": {
     "name": "#%%\n"
    }
   }
  },
  {
   "cell_type": "code",
   "execution_count": 8,
   "outputs": [
    {
     "data": {
      "text/plain": "                                                  title  label\n0     trùm logistics name lên kế_hoạch tăng gấp đôi ...      3\n1     đhđcđ name khen_ngợi name thị_phần số number n...      2\n2     cổ_phiếu nhóm name giảm mạnh dù thị_trường lên...      2\n3     cổ_phiếu lên đỉnh con gái chủ_tịch name name đ...      2\n4     name cổ_phiếu bứt_phá percent lãi_ròng date đầ...      3\n...                                                 ...    ...\n1054        những phát_minh của name thay_đổi ngành ôtô      3\n1055       gần number người chơi ma_tuý trong bar ở loc      1\n1056     hai cựu chủ_tịch name name dằn_vặt vì sai_phạm      1\n1057      bé gái number tuổi bị xâm_hại khi đi xin việc      1\n1058                               dàn_cảnh cướp xe_máy      1\n\n[1059 rows x 2 columns]",
      "text/html": "<div>\n<style scoped>\n    .dataframe tbody tr th:only-of-type {\n        vertical-align: middle;\n    }\n\n    .dataframe tbody tr th {\n        vertical-align: top;\n    }\n\n    .dataframe thead th {\n        text-align: right;\n    }\n</style>\n<table border=\"1\" class=\"dataframe\">\n  <thead>\n    <tr style=\"text-align: right;\">\n      <th></th>\n      <th>title</th>\n      <th>label</th>\n    </tr>\n  </thead>\n  <tbody>\n    <tr>\n      <th>0</th>\n      <td>trùm logistics name lên kế_hoạch tăng gấp đôi ...</td>\n      <td>3</td>\n    </tr>\n    <tr>\n      <th>1</th>\n      <td>đhđcđ name khen_ngợi name thị_phần số number n...</td>\n      <td>2</td>\n    </tr>\n    <tr>\n      <th>2</th>\n      <td>cổ_phiếu nhóm name giảm mạnh dù thị_trường lên...</td>\n      <td>2</td>\n    </tr>\n    <tr>\n      <th>3</th>\n      <td>cổ_phiếu lên đỉnh con gái chủ_tịch name name đ...</td>\n      <td>2</td>\n    </tr>\n    <tr>\n      <th>4</th>\n      <td>name cổ_phiếu bứt_phá percent lãi_ròng date đầ...</td>\n      <td>3</td>\n    </tr>\n    <tr>\n      <th>...</th>\n      <td>...</td>\n      <td>...</td>\n    </tr>\n    <tr>\n      <th>1054</th>\n      <td>những phát_minh của name thay_đổi ngành ôtô</td>\n      <td>3</td>\n    </tr>\n    <tr>\n      <th>1055</th>\n      <td>gần number người chơi ma_tuý trong bar ở loc</td>\n      <td>1</td>\n    </tr>\n    <tr>\n      <th>1056</th>\n      <td>hai cựu chủ_tịch name name dằn_vặt vì sai_phạm</td>\n      <td>1</td>\n    </tr>\n    <tr>\n      <th>1057</th>\n      <td>bé gái number tuổi bị xâm_hại khi đi xin việc</td>\n      <td>1</td>\n    </tr>\n    <tr>\n      <th>1058</th>\n      <td>dàn_cảnh cướp xe_máy</td>\n      <td>1</td>\n    </tr>\n  </tbody>\n</table>\n<p>1059 rows × 2 columns</p>\n</div>"
     },
     "execution_count": 8,
     "metadata": {},
     "output_type": "execute_result"
    }
   ],
   "source": [
    "new_data = pd.read_csv('data/train_sample.csv')\n",
    "new_data"
   ],
   "metadata": {
    "collapsed": false,
    "pycharm": {
     "name": "#%%\n"
    }
   }
  },
  {
   "cell_type": "code",
   "execution_count": 9,
   "outputs": [],
   "source": [
    "new_data.title = new_data.title.str.replace('name','')\n",
    "new_data.title = new_data.title.str.replace('number','')\n",
    "new_data.title = new_data.title.str.replace('percent','')\n",
    "new_data.title = new_data.title.str.replace('date','')\n",
    "new_data.title = new_data.title.str.replace('loc','')\n",
    "new_data.title = new_data.title.str.replace('  ',' ')"
   ],
   "metadata": {
    "collapsed": false,
    "pycharm": {
     "name": "#%%\n"
    }
   }
  },
  {
   "cell_type": "code",
   "execution_count": 10,
   "outputs": [
    {
     "data": {
      "text/plain": "                                                  title  label\n0     trùm logistics lên kế_hoạch tăng gấp đôi lợi_n...      3\n1     đhđcđ khen_ngợi thị_phần số nhưng không thoả_m...      2\n2        cổ_phiếu nhóm giảm mạnh dù thị_trường lên đỉnh      2\n3     cổ_phiếu lên đỉnh con gái chủ_tịch  đăng_ký bá...      2\n4      cổ_phiếu bứt_phá lãi_ròng đầu năm tăng lên mứ...      3\n...                                                 ...    ...\n1054             những phát_minh của thay_đổi ngành ôtô      3\n1055                 gần người chơi ma_tuý trong bar ở       1\n1056              hai cựu chủ_tịch  dằn_vặt vì sai_phạm      1\n1057             bé gái tuổi bị xâm_hại khi đi xin việc      1\n1058                               dàn_cảnh cướp xe_máy      1\n\n[1059 rows x 2 columns]",
      "text/html": "<div>\n<style scoped>\n    .dataframe tbody tr th:only-of-type {\n        vertical-align: middle;\n    }\n\n    .dataframe tbody tr th {\n        vertical-align: top;\n    }\n\n    .dataframe thead th {\n        text-align: right;\n    }\n</style>\n<table border=\"1\" class=\"dataframe\">\n  <thead>\n    <tr style=\"text-align: right;\">\n      <th></th>\n      <th>title</th>\n      <th>label</th>\n    </tr>\n  </thead>\n  <tbody>\n    <tr>\n      <th>0</th>\n      <td>trùm logistics lên kế_hoạch tăng gấp đôi lợi_n...</td>\n      <td>3</td>\n    </tr>\n    <tr>\n      <th>1</th>\n      <td>đhđcđ khen_ngợi thị_phần số nhưng không thoả_m...</td>\n      <td>2</td>\n    </tr>\n    <tr>\n      <th>2</th>\n      <td>cổ_phiếu nhóm giảm mạnh dù thị_trường lên đỉnh</td>\n      <td>2</td>\n    </tr>\n    <tr>\n      <th>3</th>\n      <td>cổ_phiếu lên đỉnh con gái chủ_tịch  đăng_ký bá...</td>\n      <td>2</td>\n    </tr>\n    <tr>\n      <th>4</th>\n      <td>cổ_phiếu bứt_phá lãi_ròng đầu năm tăng lên mứ...</td>\n      <td>3</td>\n    </tr>\n    <tr>\n      <th>...</th>\n      <td>...</td>\n      <td>...</td>\n    </tr>\n    <tr>\n      <th>1054</th>\n      <td>những phát_minh của thay_đổi ngành ôtô</td>\n      <td>3</td>\n    </tr>\n    <tr>\n      <th>1055</th>\n      <td>gần người chơi ma_tuý trong bar ở</td>\n      <td>1</td>\n    </tr>\n    <tr>\n      <th>1056</th>\n      <td>hai cựu chủ_tịch  dằn_vặt vì sai_phạm</td>\n      <td>1</td>\n    </tr>\n    <tr>\n      <th>1057</th>\n      <td>bé gái tuổi bị xâm_hại khi đi xin việc</td>\n      <td>1</td>\n    </tr>\n    <tr>\n      <th>1058</th>\n      <td>dàn_cảnh cướp xe_máy</td>\n      <td>1</td>\n    </tr>\n  </tbody>\n</table>\n<p>1059 rows × 2 columns</p>\n</div>"
     },
     "execution_count": 10,
     "metadata": {},
     "output_type": "execute_result"
    }
   ],
   "source": [
    "new_data"
   ],
   "metadata": {
    "collapsed": false,
    "pycharm": {
     "name": "#%%\n"
    }
   }
  },
  {
   "cell_type": "code",
   "execution_count": 11,
   "outputs": [
    {
     "data": {
      "text/plain": "['trùm logistics lên kế_hoạch tăng gấp đôi lợi_nhuận lên tỷ đồng',\n 'đhđcđ khen_ngợi thị_phần số nhưng không thoả_mãn với vị_trí số ',\n 'cổ_phiếu nhóm giảm mạnh dù thị_trường lên đỉnh',\n 'cổ_phiếu lên đỉnh con gái chủ_tịch  đăng_ký bán toàn_bộ cổ_phiếu',\n ' cổ_phiếu bứt_phá lãi_ròng đầu năm tăng lên mức tỷ đồng',\n 'soi lợi_nhuận của các cổ_phiếu hàng_hiệu',\n 'sp mua lại cổ_phần skylar từ  xác_định thị_trường trọng_điểm để đầu_tư dự_án năng_lượng tái_tạo',\n '  dự_kiến phát_hành gần triệu cổ_phiếu trả cổ_tức ',\n 'sự vực dậy sau hàng thập_kỷ của những thương_hiệu vang bóng một thời',\n ' sai_lầm kể_cả nhà_đầu_tư chứng_khoán lâu năm cũng mắc phải']"
     },
     "execution_count": 11,
     "metadata": {},
     "output_type": "execute_result"
    }
   ],
   "source": [
    "sentences = list(new_data.title)\n",
    "sentences[:10]"
   ],
   "metadata": {
    "collapsed": false,
    "pycharm": {
     "name": "#%%\n"
    }
   }
  },
  {
   "cell_type": "code",
   "execution_count": 11,
   "outputs": [],
   "source": [],
   "metadata": {
    "collapsed": false,
    "pycharm": {
     "name": "#%%\n"
    }
   }
  },
  {
   "cell_type": "code",
   "execution_count": 12,
   "outputs": [],
   "source": [
    "tf = TfidfVectorizer(min_df=5,max_df= 0.8,max_features=4000,sublinear_tf=True)\n",
    "x = tf.fit_transform(sentences)"
   ],
   "metadata": {
    "collapsed": false,
    "pycharm": {
     "name": "#%%\n"
    }
   }
  },
  {
   "cell_type": "code",
   "execution_count": 13,
   "outputs": [
    {
     "data": {
      "text/plain": "<1059x344 sparse matrix of type '<class 'numpy.float64'>'\n\twith 8515 stored elements in Compressed Sparse Row format>"
     },
     "execution_count": 13,
     "metadata": {},
     "output_type": "execute_result"
    }
   ],
   "source": [
    "x"
   ],
   "metadata": {
    "collapsed": false,
    "pycharm": {
     "name": "#%%\n"
    }
   }
  },
  {
   "cell_type": "code",
   "execution_count": 14,
   "outputs": [],
   "source": [
    "new_data.label = new_data.label-1"
   ],
   "metadata": {
    "collapsed": false,
    "pycharm": {
     "name": "#%%\n"
    }
   }
  },
  {
   "cell_type": "code",
   "execution_count": 15,
   "outputs": [],
   "source": [
    "y = new_data.label"
   ],
   "metadata": {
    "collapsed": false,
    "pycharm": {
     "name": "#%%\n"
    }
   }
  },
  {
   "cell_type": "code",
   "execution_count": 16,
   "outputs": [],
   "source": [
    "X_train,X_test,y_train,y_test = train_test_split(x,y,test_size=0.15,random_state=21,shuffle=True, stratify=y)"
   ],
   "metadata": {
    "collapsed": false,
    "pycharm": {
     "name": "#%%\n"
    }
   }
  },
  {
   "cell_type": "code",
   "execution_count": 17,
   "outputs": [],
   "source": [
    "# model = RandomForestClassifier(min_samples_leaf=2, n_jobs=-1, random_state=21)\n",
    "# model = LogisticRegression(n_jobs=-1, random_state=21)\n",
    "model = SVC(random_state=21)"
   ],
   "metadata": {
    "collapsed": false,
    "pycharm": {
     "name": "#%%\n"
    }
   }
  },
  {
   "cell_type": "code",
   "execution_count": 18,
   "outputs": [
    {
     "name": "stdout",
     "output_type": "stream",
     "text": [
      "              precision    recall  f1-score   support\n",
      "\n",
      "           0       0.84      0.62      0.71        34\n",
      "           1       0.75      0.57      0.65        37\n",
      "           2       0.76      0.92      0.84        88\n",
      "\n",
      "    accuracy                           0.77       159\n",
      "   macro avg       0.78      0.70      0.73       159\n",
      "weighted avg       0.78      0.77      0.76       159\n",
      "\n"
     ]
    }
   ],
   "source": [
    "model.fit(X_train,y_train)\n",
    "y_pred = model.predict(X_test)\n",
    "print(classification_report(y_test,y_pred))"
   ],
   "metadata": {
    "collapsed": false,
    "pycharm": {
     "name": "#%%\n"
    }
   }
  },
  {
   "cell_type": "code",
   "execution_count": 19,
   "outputs": [
    {
     "data": {
      "text/plain": "<sklearn.metrics._plot.confusion_matrix.ConfusionMatrixDisplay at 0x152ce35b0>"
     },
     "execution_count": 19,
     "metadata": {},
     "output_type": "execute_result"
    },
    {
     "data": {
      "text/plain": "<Figure size 576x576 with 2 Axes>",
      "image/png": "[encoded data removed]"
     },
     "metadata": {},
     "output_type": "display_data"
    }
   ],
   "source": [
    "sns.set_theme(style='white')\n",
    "fig, ax = plt.subplots(1,1,figsize=(8, 8))\n",
    "ConfusionMatrixDisplay.from_predictions(y_test, y_pred, ax=ax)"
   ],
   "metadata": {
    "collapsed": false,
    "pycharm": {
     "name": "#%%\n"
    }
   }
  },
  {
   "cell_type": "code",
   "execution_count": 20,
   "outputs": [
    {
     "name": "stdout",
     "output_type": "stream",
     "text": [
      "[2]\n",
      "[1]\n",
      "[0]\n",
      "[0]\n",
      "[2]\n",
      "[2]\n",
      "[2]\n"
     ]
    }
   ],
   "source": [
    "text = [[\"ngân_hàng thích_ứng với trạng_thái bình_thường sau đại_dịch\"],\n",
    "        [\"để xảy_ra thất_thoát tại sân_bay Long Thành\"],\n",
    "        ['Camera an ninh: Giật dây chuyền bất thành'],\n",
    "        [\"tổn thất\"],\n",
    "        ['lãi kỷ lục'],\n",
    "        ['Những xã nào được quyền cấp đăng ký xe máy'],\n",
    "        ['Ông Putin khen thưởng lữ đoàn từng kiểm soát Bucha']]\n",
    "\n",
    "for i in text:\n",
    "  test = tf.transform(i)\n",
    "  print(model.predict(test))"
   ],
   "metadata": {
    "collapsed": false,
    "pycharm": {
     "name": "#%%\n"
    }
   }
  },
  {
   "cell_type": "code",
   "execution_count": 20,
   "outputs": [],
   "source": [],
   "metadata": {
    "collapsed": false,
    "pycharm": {
     "name": "#%%\n"
    }
   }
  },
  {
   "cell_type": "code",
   "execution_count": 20,
   "outputs": [],
   "source": [],
   "metadata": {
    "collapsed": false,
    "pycharm": {
     "name": "#%%\n"
    }
   }
  }
 ],
 "metadata": {
  "kernelspec": {
   "display_name": "Python 3",
   "language": "python",
   "name": "python3"
  },
  "language_info": {
   "codemirror_mode": {
    "name": "ipython",
    "version": 2
   },
   "file_extension": ".py",
   "mimetype": "text/x-python",
   "name": "python",
   "nbconvert_exporter": "python",
   "pygments_lexer": "ipython2",
   "version": "2.7.6"
  }
 },
 "nbformat": 4,
 "nbformat_minor": 0
}