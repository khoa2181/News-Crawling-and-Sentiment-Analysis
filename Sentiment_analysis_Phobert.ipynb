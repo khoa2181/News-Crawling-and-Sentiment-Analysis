{
 "cells": [
  {
   "cell_type": "code",
   "execution_count": 1,
   "metadata": {
    "pycharm": {
     "name": "#%%\n"
    }
   },
   "outputs": [],
   "source": [
    "import os\n",
    "import pandas as pd\n",
    "import numpy as np\n",
    "import nltk\n",
    "import re\n",
    "import sklearn\n",
    "from nltk.corpus import stopwords\n",
    "from gensim.models import Word2Vec\n",
    "from sklearn.model_selection import train_test_split, StratifiedShuffleSplit\n",
    "from sklearn.model_selection import KFold\n",
    "from sklearn.metrics import cohen_kappa_score, confusion_matrix, ConfusionMatrixDisplay, classification_report\n",
    "import torch\n",
    "import torch.nn as nn\n",
    "import torch.nn.functional as F\n",
    "import torch.optim as optim\n",
    "import random\n",
    "import multiprocessing\n",
    "import matplotlib.pyplot as plt\n",
    "import seaborn as sns\n",
    "sns.set_theme(style='whitegrid')"
   ]
  },
  {
   "cell_type": "code",
   "execution_count": 2,
   "metadata": {
    "pycharm": {
     "name": "#%%\n"
    }
   },
   "outputs": [],
   "source": [
    "from transformers import TFAutoModel, PhobertTokenizer, AutoTokenizer, AutoModel, TFAutoModelForSequenceClassification\n",
    "import tensorflow as tf\n",
    "from tensorflow.keras.layers import Embedding, LSTM, Lambda, Flatten, Bidirectional, MaxPooling1D, UpSampling2D, AveragePooling2D, Flatten, Dropout, Input, Dense, Conv1D, Conv2D, BatchNormalization, Activation, GlobalMaxPooling1D, GlobalAveragePooling2D\n",
    "from tensorflow.keras.models import Sequential,Model, load_model, model_from_config\n",
    "from tensorflow.keras.preprocessing.image import ImageDataGenerator\n",
    "from tensorflow.keras.optimizers import Adam, SGD, RMSprop\n",
    "from tensorflow.keras.callbacks import LearningRateScheduler, ModelCheckpoint, EarlyStopping, ReduceLROnPlateau\n",
    "from tensorflow.keras.applications import imagenet_utils, inception_resnet_v2, EfficientNetB4, InceptionResNetV2\n",
    "from tensorflow.keras.utils import to_categorical"
   ]
  },
  {
   "cell_type": "code",
   "execution_count": 3,
   "metadata": {
    "pycharm": {
     "name": "#%%\n"
    }
   },
   "outputs": [
    {
     "name": "stdout",
     "output_type": "stream",
     "text": [
      "/home/khoatm4/Elastic_search\r\n"
     ]
    }
   ],
   "source": [
    "!pwd"
   ]
  },
  {
   "cell_type": "code",
   "execution_count": 4,
   "metadata": {
    "pycharm": {
     "name": "#%%\n"
    }
   },
   "outputs": [],
   "source": [
    "data = pd.read_csv('/home/khoatm4/Elastic_search/data/train_sample.csv')\n",
    "data.label -= 1"
   ]
  },
  {
   "cell_type": "code",
   "execution_count": 5,
   "metadata": {
    "pycharm": {
     "name": "#%%\n"
    }
   },
   "outputs": [],
   "source": [
    "data = sklearn.utils.shuffle(data, random_state=21)"
   ]
  },
  {
   "cell_type": "code",
   "execution_count": 6,
   "metadata": {
    "pycharm": {
     "name": "#%%\n"
    }
   },
   "outputs": [],
   "source": [
    "data.reset_index(drop=True, inplace=True)"
   ]
  },
  {
   "cell_type": "code",
   "execution_count": 7,
   "metadata": {
    "pycharm": {
     "name": "#%%\n"
    }
   },
   "outputs": [],
   "source": [
    "data.title = data.title.str.replace('name','')\n",
    "data.title = data.title.str.replace('number','')\n",
    "data.title = data.title.str.replace('percent','')\n",
    "data.title = data.title.str.replace('date','')\n",
    "data.title = data.title.str.replace('loc','')\n",
    "data.title = data.title.str.replace('  ',' ')"
   ]
  },
  {
   "cell_type": "code",
   "execution_count": 8,
   "metadata": {
    "pycharm": {
     "name": "#%%\n"
    }
   },
   "outputs": [
    {
     "data": {
      "text/html": [
       "<div>\n",
       "<style scoped>\n",
       "    .dataframe tbody tr th:only-of-type {\n",
       "        vertical-align: middle;\n",
       "    }\n",
       "\n",
       "    .dataframe tbody tr th {\n",
       "        vertical-align: top;\n",
       "    }\n",
       "\n",
       "    .dataframe thead th {\n",
       "        text-align: right;\n",
       "    }\n",
       "</style>\n",
       "<table border=\"1\" class=\"dataframe\">\n",
       "  <thead>\n",
       "    <tr style=\"text-align: right;\">\n",
       "      <th></th>\n",
       "      <th>title</th>\n",
       "      <th>label</th>\n",
       "    </tr>\n",
       "  </thead>\n",
       "  <tbody>\n",
       "    <tr>\n",
       "      <th>0</th>\n",
       "      <td>thị_trường_chứng_khoán có sức phục_hồi mạnh nh...</td>\n",
       "      <td>2</td>\n",
       "    </tr>\n",
       "    <tr>\n",
       "      <th>1</th>\n",
       "      <td>lỗ luỹ kế vượt vốn_điều_lệ cổ_phiếu của sắp bị...</td>\n",
       "      <td>0</td>\n",
       "    </tr>\n",
       "    <tr>\n",
       "      <th>2</th>\n",
       "      <td>tin giao_dịch lượng lớn cổ_phiếu</td>\n",
       "      <td>1</td>\n",
       "    </tr>\n",
       "    <tr>\n",
       "      <th>3</th>\n",
       "      <td>thông_tin chính_thức về khả_năng niêm_yết vin...</td>\n",
       "      <td>2</td>\n",
       "    </tr>\n",
       "    <tr>\n",
       "      <th>4</th>\n",
       "      <td>áp_dụng cải_tiến về kỹ_thuật vận_hành tình_tr...</td>\n",
       "      <td>2</td>\n",
       "    </tr>\n",
       "    <tr>\n",
       "      <th>...</th>\n",
       "      <td>...</td>\n",
       "      <td>...</td>\n",
       "    </tr>\n",
       "    <tr>\n",
       "      <th>1054</th>\n",
       "      <td>vẫn tăng kịch trần dù lỗ luỹ kế sau kiểm_toán...</td>\n",
       "      <td>0</td>\n",
       "    </tr>\n",
       "    <tr>\n",
       "      <th>1055</th>\n",
       "      <td>được định_giá tỷ khi bán cho</td>\n",
       "      <td>2</td>\n",
       "    </tr>\n",
       "    <tr>\n",
       "      <th>1056</th>\n",
       "      <td>chứng_khoán  lên phương_án phát_hành tăng vốn ...</td>\n",
       "      <td>2</td>\n",
       "    </tr>\n",
       "    <tr>\n",
       "      <th>1057</th>\n",
       "      <td>khối ngoại bán ròng trên  mất hơn điểm trong p...</td>\n",
       "      <td>0</td>\n",
       "    </tr>\n",
       "    <tr>\n",
       "      <th>1058</th>\n",
       "      <td>lịch_sự kiện và tin_vắn chứng_khoán ngày</td>\n",
       "      <td>1</td>\n",
       "    </tr>\n",
       "  </tbody>\n",
       "</table>\n",
       "<p>1059 rows × 2 columns</p>\n",
       "</div>"
      ],
      "text/plain": [
       "                                                  title  label\n",
       "0     thị_trường_chứng_khoán có sức phục_hồi mạnh nh...      2\n",
       "1     lỗ luỹ kế vượt vốn_điều_lệ cổ_phiếu của sắp bị...      0\n",
       "2                      tin giao_dịch lượng lớn cổ_phiếu      1\n",
       "3      thông_tin chính_thức về khả_năng niêm_yết vin...      2\n",
       "4      áp_dụng cải_tiến về kỹ_thuật vận_hành tình_tr...      2\n",
       "...                                                 ...    ...\n",
       "1054   vẫn tăng kịch trần dù lỗ luỹ kế sau kiểm_toán...      0\n",
       "1055                      được định_giá tỷ khi bán cho       2\n",
       "1056  chứng_khoán  lên phương_án phát_hành tăng vốn ...      2\n",
       "1057  khối ngoại bán ròng trên  mất hơn điểm trong p...      0\n",
       "1058          lịch_sự kiện và tin_vắn chứng_khoán ngày       1\n",
       "\n",
       "[1059 rows x 2 columns]"
      ]
     },
     "execution_count": 8,
     "metadata": {},
     "output_type": "execute_result"
    }
   ],
   "source": [
    "data"
   ]
  },
  {
   "cell_type": "code",
   "execution_count": null,
   "metadata": {
    "pycharm": {
     "name": "#%%\n"
    }
   },
   "outputs": [],
   "source": [
    "# Labels\n",
    "# Negative: 0\n",
    "# Neutral: 1\n",
    "# Positive: 2"
   ]
  },
  {
   "cell_type": "code",
   "execution_count": 9,
   "metadata": {
    "pycharm": {
     "name": "#%%\n"
    }
   },
   "outputs": [],
   "source": [
    "title = data.title\n",
    "y = data.label"
   ]
  },
  {
   "cell_type": "code",
   "execution_count": 10,
   "metadata": {
    "pycharm": {
     "name": "#%%\n"
    }
   },
   "outputs": [],
   "source": [
    "texts = list(title)\n",
    "indices = list(y)"
   ]
  },
  {
   "cell_type": "code",
   "execution_count": 11,
   "metadata": {
    "pycharm": {
     "name": "#%%\n"
    }
   },
   "outputs": [],
   "source": [
    "AUTOTUNE = tf.data.experimental.AUTOTUNE\n",
    "batch_size = 256"
   ]
  },
  {
   "cell_type": "code",
   "execution_count": 12,
   "metadata": {
    "pycharm": {
     "name": "#%%\n"
    }
   },
   "outputs": [
    {
     "data": {
      "application/vnd.jupyter.widget-view+json": {
       "model_id": "dd1f75c114a643d6b6e95f4f5150891c",
       "version_major": 2,
       "version_minor": 0
      },
      "text/plain": [
       "Downloading:   0%|          | 0.00/557 [00:00<?, ?B/s]"
      ]
     },
     "metadata": {},
     "output_type": "display_data"
    },
    {
     "data": {
      "application/vnd.jupyter.widget-view+json": {
       "model_id": "05ff0df27a784ea9a037870a1ead3ea1",
       "version_major": 2,
       "version_minor": 0
      },
      "text/plain": [
       "Downloading:   0%|          | 0.00/874k [00:00<?, ?B/s]"
      ]
     },
     "metadata": {},
     "output_type": "display_data"
    },
    {
     "data": {
      "application/vnd.jupyter.widget-view+json": {
       "model_id": "8eeb21db4f9c41c4b3522f70e2ec7ee8",
       "version_major": 2,
       "version_minor": 0
      },
      "text/plain": [
       "Downloading:   0%|          | 0.00/1.08M [00:00<?, ?B/s]"
      ]
     },
     "metadata": {},
     "output_type": "display_data"
    },
    {
     "name": "stderr",
     "output_type": "stream",
     "text": [
      "Special tokens have been added in the vocabulary, make sure the associated word embeddings are fine-tuned or trained.\n"
     ]
    }
   ],
   "source": [
    "tokenizer = AutoTokenizer.from_pretrained(\"vinai/phobert-base\") #Tokenizer"
   ]
  },
  {
   "cell_type": "code",
   "execution_count": 13,
   "metadata": {
    "pycharm": {
     "name": "#%%\n"
    }
   },
   "outputs": [],
   "source": [
    "#x_train, x_test, y_train, y_test = train_test_split(texts, indices, test_size=0.2, random_state=21, stratify=indices)"
   ]
  },
  {
   "cell_type": "code",
   "execution_count": 14,
   "metadata": {
    "pycharm": {
     "name": "#%%\n"
    }
   },
   "outputs": [],
   "source": [
    "inputs = tokenizer(texts, padding=True, truncation=False, return_tensors='tf') #Tokenized text\n",
    "dataset = tf.data.Dataset.from_tensor_slices((dict(inputs), indices)) #Create a tensorflow dataset\n",
    "\n",
    "val_data_size = int(0.15 * len(texts))\n",
    "val_ds = dataset.take(val_data_size).batch(batch_size, drop_remainder=False)\n",
    "train_ds = dataset.skip(val_data_size).batch(batch_size, drop_remainder=False)\n",
    "train_ds = train_ds.prefetch(buffer_size=AUTOTUNE)"
   ]
  },
  {
   "cell_type": "code",
   "execution_count": 16,
   "metadata": {
    "pycharm": {
     "name": "#%%\n"
    }
   },
   "outputs": [
    {
     "data": {
      "text/plain": [
       "<PrefetchDataset shapes: ({input_ids: (None, 28), token_type_ids: (None, 28), attention_mask: (None, 28)}, (None,)), types: ({input_ids: tf.int32, token_type_ids: tf.int32, attention_mask: tf.int32}, tf.int32)>"
      ]
     },
     "execution_count": 16,
     "metadata": {},
     "output_type": "execute_result"
    }
   ],
   "source": [
    "train_ds"
   ]
  },
  {
   "cell_type": "code",
   "execution_count": 17,
   "metadata": {
    "pycharm": {
     "name": "#%%\n"
    }
   },
   "outputs": [
    {
     "data": {
      "text/plain": [
       "<BatchDataset shapes: ({input_ids: (None, 28), token_type_ids: (None, 28), attention_mask: (None, 28)}, (None,)), types: ({input_ids: tf.int32, token_type_ids: tf.int32, attention_mask: tf.int32}, tf.int32)>"
      ]
     },
     "execution_count": 17,
     "metadata": {},
     "output_type": "execute_result"
    }
   ],
   "source": [
    "val_ds"
   ]
  },
  {
   "cell_type": "code",
   "execution_count": null,
   "metadata": {
    "pycharm": {
     "name": "#%%\n"
    }
   },
   "outputs": [],
   "source": []
  },
  {
   "cell_type": "code",
   "execution_count": 18,
   "metadata": {
    "pycharm": {
     "name": "#%%\n"
    }
   },
   "outputs": [
    {
     "name": "stdout",
     "output_type": "stream",
     "text": [
      "Input: thị_trường_chứng_khoán có sức phục_hồi mạnh nhất và lọt top thế_giới\n",
      "Subword tokenization: ['thị_trường_chứng_khoán', 'có', 'sức', 'phục_hồi', 'mạnh', 'nhất', 'và', 'lọt', 'top', 'thế_giới']\n",
      "Indices: [0, 5124, 10, 760, 2646, 384, 67, 6, 2294, 2486, 198, 2, 1]\n",
      "\n",
      "Input: lỗ luỹ kế vượt vốn_điều_lệ cổ_phiếu của sắp bị huỷ niêm_yết\n",
      "Subword tokenization: ['lỗ', 'luỹ', 'kế', 'vượt', 'vốn_điều_lệ', 'cổ_phiếu', 'của', 'sắp', 'bị', 'huỷ', 'niêm_yết']\n",
      "Indices: [0, 2536, 9373, 3900, 510, 4511, 1025, 7, 984, 45, 3374, 2784, 2]\n",
      "\n",
      "Input:       tin giao_dịch lượng lớn cổ_phiếu\n",
      "Subword tokenization: ['tin', 'giao_dịch', 'lượng', 'lớn', 'cổ_phiếu']\n",
      "Indices: [0, 200, 786, 525, 103, 1025, 2, 1, 1, 1, 1, 1, 1]\n",
      "\n"
     ]
    }
   ],
   "source": [
    "tokens = tokenizer(texts[0:3], padding=True, truncation=True)['input_ids']\n",
    "for i in range(3):\n",
    "    print('Input:',texts[i])\n",
    "    print('Subword tokenization:',tokenizer.tokenize(texts[i]))\n",
    "    print('Indices:', tokens[i], end='\\n\\n')"
   ]
  },
  {
   "cell_type": "code",
   "execution_count": null,
   "metadata": {
    "pycharm": {
     "name": "#%%\n"
    }
   },
   "outputs": [],
   "source": []
  },
  {
   "cell_type": "code",
   "execution_count": 19,
   "metadata": {
    "pycharm": {
     "name": "#%%\n"
    }
   },
   "outputs": [],
   "source": [
    "sgd = SGD(learning_rate=1e-5, momentum=0.9, decay=0.000001)\n",
    "adam = Adam(learning_rate=1e-5)"
   ]
  },
  {
   "cell_type": "code",
   "execution_count": 20,
   "metadata": {
    "pycharm": {
     "name": "#%%\n"
    }
   },
   "outputs": [],
   "source": [
    "reduce_lr = ReduceLROnPlateau(monitor='val_loss',\n",
    "                              mode='min',\n",
    "                              patience= 2,\n",
    "                              factor= 0.3,\n",
    "                              min_lr= 1e-9,\n",
    "                              verbose=1)"
   ]
  },
  {
   "cell_type": "code",
   "execution_count": 21,
   "metadata": {
    "pycharm": {
     "name": "#%%\n"
    }
   },
   "outputs": [
    {
     "data": {
      "application/vnd.jupyter.widget-view+json": {
       "model_id": "dd93bdf175674f63901874fe32aa166d",
       "version_major": 2,
       "version_minor": 0
      },
      "text/plain": [
       "Downloading:   0%|          | 0.00/706M [00:00<?, ?B/s]"
      ]
     },
     "metadata": {},
     "output_type": "display_data"
    },
    {
     "name": "stderr",
     "output_type": "stream",
     "text": [
      "All model checkpoint layers were used when initializing TFRobertaForSequenceClassification.\n",
      "\n",
      "Some layers of TFRobertaForSequenceClassification were not initialized from the model checkpoint at vinai/phobert-base and are newly initialized: ['classifier']\n",
      "You should probably TRAIN this model on a down-stream task to be able to use it for predictions and inference.\n"
     ]
    }
   ],
   "source": [
    "model = TFAutoModelForSequenceClassification.from_pretrained(\"vinai/phobert-base\", num_labels=3)"
   ]
  },
  {
   "cell_type": "code",
   "execution_count": 22,
   "metadata": {
    "pycharm": {
     "name": "#%%\n"
    }
   },
   "outputs": [],
   "source": [
    "# model.compile(optimizer=sgd , loss='sparse_categorical_crossentropy', metrics=['accuracy'])\n",
    "#\n",
    "# history=model.fit(train_ds, validation_data=val_ds, epochs=6, verbose=1)"
   ]
  },
  {
   "cell_type": "code",
   "execution_count": null,
   "metadata": {
    "pycharm": {
     "name": "#%%\n"
    }
   },
   "outputs": [],
   "source": []
  },
  {
   "cell_type": "code",
   "execution_count": 23,
   "metadata": {
    "pycharm": {
     "name": "#%%\n"
    }
   },
   "outputs": [
    {
     "name": "stdout",
     "output_type": "stream",
     "text": [
      "Epoch 1/30\n",
      "4/4 [==============================] - 54s 9s/step - loss: 1.0677 - accuracy: 0.4950 - val_loss: 1.0102 - val_accuracy: 0.5633\n",
      "Epoch 2/30\n",
      "4/4 [==============================] - 32s 8s/step - loss: 1.0100 - accuracy: 0.5527 - val_loss: 0.9608 - val_accuracy: 0.5633\n",
      "Epoch 3/30\n",
      "4/4 [==============================] - 31s 8s/step - loss: 0.9755 - accuracy: 0.5516 - val_loss: 0.9350 - val_accuracy: 0.5633\n",
      "Epoch 4/30\n",
      "4/4 [==============================] - 31s 8s/step - loss: 0.9632 - accuracy: 0.5516 - val_loss: 0.9164 - val_accuracy: 0.5633\n",
      "Epoch 5/30\n",
      "4/4 [==============================] - 31s 8s/step - loss: 0.9527 - accuracy: 0.5516 - val_loss: 0.8940 - val_accuracy: 0.5633\n",
      "Epoch 6/30\n",
      "4/4 [==============================] - 31s 7s/step - loss: 0.9335 - accuracy: 0.5516 - val_loss: 0.8714 - val_accuracy: 0.5633\n",
      "Epoch 7/30\n",
      "4/4 [==============================] - 31s 8s/step - loss: 0.9186 - accuracy: 0.5538 - val_loss: 0.8506 - val_accuracy: 0.6266\n",
      "Epoch 8/30\n",
      "4/4 [==============================] - 31s 7s/step - loss: 0.8953 - accuracy: 0.5560 - val_loss: 0.8303 - val_accuracy: 0.6266\n",
      "Epoch 9/30\n",
      "4/4 [==============================] - 31s 8s/step - loss: 0.8760 - accuracy: 0.5893 - val_loss: 0.8081 - val_accuracy: 0.6519\n",
      "Epoch 10/30\n",
      "4/4 [==============================] - 31s 8s/step - loss: 0.8529 - accuracy: 0.6082 - val_loss: 0.7827 - val_accuracy: 0.6646\n",
      "Epoch 11/30\n",
      "4/4 [==============================] - 31s 8s/step - loss: 0.8259 - accuracy: 0.6215 - val_loss: 0.7562 - val_accuracy: 0.6519\n",
      "Epoch 12/30\n",
      "4/4 [==============================] - 31s 8s/step - loss: 0.8013 - accuracy: 0.6349 - val_loss: 0.7283 - val_accuracy: 0.6899\n",
      "Epoch 13/30\n",
      "4/4 [==============================] - 31s 7s/step - loss: 0.7586 - accuracy: 0.6715 - val_loss: 0.7012 - val_accuracy: 0.7152\n",
      "Epoch 14/30\n",
      "4/4 [==============================] - 31s 8s/step - loss: 0.7290 - accuracy: 0.6903 - val_loss: 0.6767 - val_accuracy: 0.7342\n",
      "Epoch 15/30\n",
      "4/4 [==============================] - 31s 7s/step - loss: 0.6902 - accuracy: 0.7303 - val_loss: 0.6465 - val_accuracy: 0.7405\n",
      "Epoch 16/30\n",
      "4/4 [==============================] - 31s 8s/step - loss: 0.6493 - accuracy: 0.7514 - val_loss: 0.6046 - val_accuracy: 0.7658\n",
      "Epoch 17/30\n",
      "4/4 [==============================] - 30s 7s/step - loss: 0.5972 - accuracy: 0.8058 - val_loss: 0.5707 - val_accuracy: 0.7848\n",
      "Epoch 18/30\n",
      "4/4 [==============================] - 31s 8s/step - loss: 0.5469 - accuracy: 0.8446 - val_loss: 0.5396 - val_accuracy: 0.7975\n",
      "Epoch 19/30\n",
      "4/4 [==============================] - 30s 7s/step - loss: 0.5046 - accuracy: 0.8380 - val_loss: 0.5155 - val_accuracy: 0.7911\n",
      "Epoch 20/30\n",
      "4/4 [==============================] - 31s 8s/step - loss: 0.4779 - accuracy: 0.8502 - val_loss: 0.5002 - val_accuracy: 0.8038\n",
      "Epoch 21/30\n",
      "4/4 [==============================] - 31s 7s/step - loss: 0.4377 - accuracy: 0.8679 - val_loss: 0.4819 - val_accuracy: 0.8165\n",
      "Epoch 22/30\n",
      "4/4 [==============================] - 31s 7s/step - loss: 0.4080 - accuracy: 0.8668 - val_loss: 0.4723 - val_accuracy: 0.8165\n",
      "Epoch 23/30\n",
      "4/4 [==============================] - 31s 7s/step - loss: 0.3875 - accuracy: 0.8779 - val_loss: 0.4724 - val_accuracy: 0.8165\n",
      "Epoch 24/30\n",
      "4/4 [==============================] - 30s 7s/step - loss: 0.3553 - accuracy: 0.8901 - val_loss: 0.4555 - val_accuracy: 0.8291\n",
      "Epoch 25/30\n",
      "4/4 [==============================] - 31s 8s/step - loss: 0.3267 - accuracy: 0.9012 - val_loss: 0.4474 - val_accuracy: 0.8354\n",
      "Epoch 26/30\n",
      "4/4 [==============================] - 31s 7s/step - loss: 0.2983 - accuracy: 0.9145 - val_loss: 0.4498 - val_accuracy: 0.8228\n",
      "Epoch 27/30\n",
      "4/4 [==============================] - 30s 7s/step - loss: 0.2877 - accuracy: 0.9245 - val_loss: 0.4422 - val_accuracy: 0.8354\n",
      "Epoch 28/30\n",
      "4/4 [==============================] - 31s 8s/step - loss: 0.2744 - accuracy: 0.9190 - val_loss: 0.4554 - val_accuracy: 0.8418\n",
      "Epoch 29/30\n",
      "4/4 [==============================] - 30s 7s/step - loss: 0.2530 - accuracy: 0.9334 - val_loss: 0.4381 - val_accuracy: 0.8354\n",
      "Epoch 30/30\n",
      "4/4 [==============================] - 31s 7s/step - loss: 0.2432 - accuracy: 0.9234 - val_loss: 0.4234 - val_accuracy: 0.8354\n"
     ]
    }
   ],
   "source": [
    "model.compile(\n",
    "    optimizer = adam,\n",
    "    loss = tf.keras.losses.SparseCategoricalCrossentropy(from_logits=True),\n",
    "    metrics = [tf.metrics.SparseCategoricalAccuracy(name='accuracy')]\n",
    ")\n",
    "\n",
    "H = model.fit(train_ds,\n",
    "              validation_data=val_ds,\n",
    "              callbacks = [reduce_lr],\n",
    "              epochs=30,\n",
    "              verbose=1)"
   ]
  },
  {
   "cell_type": "code",
   "execution_count": 29,
   "metadata": {
    "pycharm": {
     "name": "#%%\n"
    }
   },
   "outputs": [
    {
     "name": "stdout",
     "output_type": "stream",
     "text": [
      "Epoch 1/10\n",
      "4/4 [==============================] - 30s 7s/step - loss: 0.2169 - accuracy: 0.9423 - val_loss: 0.4433 - val_accuracy: 0.8608\n",
      "Epoch 2/10\n",
      "4/4 [==============================] - 30s 7s/step - loss: 0.2055 - accuracy: 0.9467 - val_loss: 0.4224 - val_accuracy: 0.8354\n",
      "Epoch 3/10\n",
      "4/4 [==============================] - 30s 7s/step - loss: 0.1897 - accuracy: 0.9556 - val_loss: 0.4168 - val_accuracy: 0.8291\n",
      "Epoch 4/10\n",
      "4/4 [==============================] - 30s 7s/step - loss: 0.1757 - accuracy: 0.9612 - val_loss: 0.4505 - val_accuracy: 0.8481\n",
      "Epoch 5/10\n",
      "4/4 [==============================] - 30s 7s/step - loss: 0.1498 - accuracy: 0.9689 - val_loss: 0.4295 - val_accuracy: 0.8354\n",
      "\n",
      "Epoch 00005: ReduceLROnPlateau reducing learning rate to 2.9999999242136253e-06.\n",
      "Epoch 6/10\n",
      "4/4 [==============================] - 30s 7s/step - loss: 0.1505 - accuracy: 0.9656 - val_loss: 0.4144 - val_accuracy: 0.8418\n",
      "Epoch 7/10\n",
      "4/4 [==============================] - 31s 7s/step - loss: 0.1503 - accuracy: 0.9612 - val_loss: 0.4116 - val_accuracy: 0.8608\n",
      "Epoch 8/10\n",
      "4/4 [==============================] - 30s 7s/step - loss: 0.1370 - accuracy: 0.9700 - val_loss: 0.4126 - val_accuracy: 0.8544\n",
      "Epoch 9/10\n",
      "4/4 [==============================] - 30s 7s/step - loss: 0.1346 - accuracy: 0.9723 - val_loss: 0.4060 - val_accuracy: 0.8608\n",
      "Epoch 10/10\n",
      "4/4 [==============================] - 31s 7s/step - loss: 0.1234 - accuracy: 0.9767 - val_loss: 0.4190 - val_accuracy: 0.8671\n"
     ]
    }
   ],
   "source": [
    "H = model.fit(train_ds,\n",
    "              validation_data=val_ds,\n",
    "              callbacks = [reduce_lr],\n",
    "              epochs=10,\n",
    "              verbose=1)"
   ]
  },
  {
   "cell_type": "code",
   "execution_count": 30,
   "metadata": {
    "pycharm": {
     "name": "#%%\n"
    }
   },
   "outputs": [
    {
     "name": "stdout",
     "output_type": "stream",
     "text": [
      "Epoch 1/10\n",
      "4/4 [==============================] - 30s 7s/step - loss: 0.1262 - accuracy: 0.9756 - val_loss: 0.4303 - val_accuracy: 0.8544\n",
      "Epoch 2/10\n",
      "4/4 [==============================] - 31s 7s/step - loss: 0.1284 - accuracy: 0.9734 - val_loss: 0.4167 - val_accuracy: 0.8481\n",
      "Epoch 3/10\n",
      "4/4 [==============================] - 30s 7s/step - loss: 0.1209 - accuracy: 0.9778 - val_loss: 0.4074 - val_accuracy: 0.8481\n",
      "Epoch 4/10\n",
      "4/4 [==============================] - 30s 7s/step - loss: 0.1206 - accuracy: 0.9800 - val_loss: 0.4095 - val_accuracy: 0.8481\n",
      "Epoch 5/10\n",
      "4/4 [==============================] - 31s 8s/step - loss: 0.1162 - accuracy: 0.9711 - val_loss: 0.4198 - val_accuracy: 0.8671\n",
      "\n",
      "Epoch 00005: ReduceLROnPlateau reducing learning rate to 8.999999636216671e-07.\n",
      "Epoch 6/10\n",
      "4/4 [==============================] - 30s 7s/step - loss: 0.1176 - accuracy: 0.9778 - val_loss: 0.4233 - val_accuracy: 0.8671\n",
      "Epoch 7/10\n",
      "4/4 [==============================] - 31s 8s/step - loss: 0.1094 - accuracy: 0.9767 - val_loss: 0.4261 - val_accuracy: 0.8608\n",
      "\n",
      "Epoch 00007: ReduceLROnPlateau reducing learning rate to 2.6999999249710525e-07.\n",
      "Epoch 8/10\n",
      "4/4 [==============================] - 30s 7s/step - loss: 0.1166 - accuracy: 0.9745 - val_loss: 0.4266 - val_accuracy: 0.8608\n",
      "Epoch 9/10\n",
      "4/4 [==============================] - 31s 8s/step - loss: 0.1019 - accuracy: 0.9811 - val_loss: 0.4266 - val_accuracy: 0.8608\n",
      "\n",
      "Epoch 00009: ReduceLROnPlateau reducing learning rate to 8.099999604382901e-08.\n",
      "Epoch 10/10\n",
      "4/4 [==============================] - 31s 7s/step - loss: 0.1086 - accuracy: 0.9800 - val_loss: 0.4267 - val_accuracy: 0.8608\n"
     ]
    }
   ],
   "source": [
    "H = model.fit(train_ds,\n",
    "              validation_data=val_ds,\n",
    "              callbacks = [reduce_lr],\n",
    "              epochs=10,\n",
    "              verbose=1)"
   ]
  },
  {
   "cell_type": "code",
   "execution_count": 31,
   "metadata": {
    "pycharm": {
     "name": "#%%\n"
    }
   },
   "outputs": [],
   "source": [
    "def plot_acc_loss(H):\n",
    "    fig, ax = plt.subplots(1,2, figsize=(14,7))\n",
    "    ax[0].plot(H.history['accuracy'])\n",
    "    ax[0].plot(H.history['val_accuracy'])\n",
    "    ax[0].set_title('model accuracy')\n",
    "    ax[0].set_ylabel('accuracy')\n",
    "    ax[0].set_xlabel('epoch')\n",
    "    ax[0].legend(['train', 'val'], loc='upper left')\n",
    "\n",
    "    ax[1].plot(H.history['loss'])\n",
    "    ax[1].plot(H.history['val_loss'])\n",
    "    ax[1].set_title('model loss')\n",
    "    ax[1].set_ylabel('loss')\n",
    "    ax[1].set_xlabel('epoch')\n",
    "    ax[1].legend(['train', 'val'], loc='upper right')\n",
    "    plt.show()"
   ]
  },
  {
   "cell_type": "code",
   "execution_count": 32,
   "metadata": {
    "pycharm": {
     "name": "#%%\n"
    }
   },
   "outputs": [
    {
     "data": {
      "image/png": "[encoded data removed]",
      "text/plain": [
       "<Figure size 1008x504 with 2 Axes>"
      ]
     },
     "metadata": {},
     "output_type": "display_data"
    }
   ],
   "source": [
    "plot_acc_loss(H)"
   ]
  },
  {
   "cell_type": "code",
   "execution_count": 33,
   "metadata": {
    "pycharm": {
     "name": "#%%\n"
    }
   },
   "outputs": [
    {
     "name": "stdout",
     "output_type": "stream",
     "text": [
      "1/1 [==============================] - 1s 1s/step\n"
     ]
    }
   ],
   "source": [
    "logits = model.predict(val_ds, verbose=1).logits\n",
    "prob = tf.nn.softmax(logits, axis=1).numpy()\n",
    "predictions = np.argmax(prob, axis=1)\n",
    "\n",
    "label_test = np.concatenate([y for x, y in val_ds], axis=0)"
   ]
  },
  {
   "cell_type": "code",
   "execution_count": 35,
   "metadata": {
    "pycharm": {
     "name": "#%%\n"
    }
   },
   "outputs": [
    {
     "data": {
      "text/plain": [
       "<sklearn.metrics._plot.confusion_matrix.ConfusionMatrixDisplay at 0x7f1b2188bda0>"
      ]
     },
     "execution_count": 35,
     "metadata": {},
     "output_type": "execute_result"
    },
    {
     "data": {
      "image/png": "[encoded data removed]",
      "text/plain": [
       "<Figure size 576x576 with 2 Axes>"
      ]
     },
     "metadata": {},
     "output_type": "display_data"
    }
   ],
   "source": [
    "fig, ax = plt.subplots(1,1,figsize=(8, 8))\n",
    "cm = confusion_matrix(label_test, predictions)\n",
    "disp = ConfusionMatrixDisplay(confusion_matrix=cm)\n",
    "disp.plot(ax=ax)"
   ]
  },
  {
   "cell_type": "code",
   "execution_count": 36,
   "metadata": {
    "pycharm": {
     "name": "#%%\n"
    }
   },
   "outputs": [
    {
     "name": "stdout",
     "output_type": "stream",
     "text": [
      "              precision    recall  f1-score   support\n",
      "\n",
      "           0       0.77      0.87      0.82        31\n",
      "           1       0.87      0.71      0.78        38\n",
      "           2       0.89      0.92      0.91        89\n",
      "\n",
      "    accuracy                           0.86       158\n",
      "   macro avg       0.84      0.83      0.84       158\n",
      "weighted avg       0.86      0.86      0.86       158\n",
      "\n"
     ]
    }
   ],
   "source": [
    "print(classification_report(label_test,predictions))"
   ]
  },
  {
   "cell_type": "code",
   "execution_count": null,
   "metadata": {
    "pycharm": {
     "name": "#%%\n"
    }
   },
   "outputs": [],
   "source": []
  }
 ],
 "metadata": {
  "kernelspec": {
   "display_name": "Python 3",
   "language": "python",
   "name": "python3"
  },
  "language_info": {
   "codemirror_mode": {
    "name": "ipython",
    "version": 3
   },
   "file_extension": ".py",
   "mimetype": "text/x-python",
   "name": "python",
   "nbconvert_exporter": "python",
   "pygments_lexer": "ipython3",
   "version": "3.6.8"
  }
 },
 "nbformat": 4,
 "nbformat_minor": 1
}