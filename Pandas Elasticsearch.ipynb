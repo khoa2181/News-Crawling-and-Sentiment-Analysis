{
 "cells": [
  {
   "cell_type": "code",
   "execution_count": 2,
   "id": "412bfa91",
   "metadata": {
    "pycharm": {
     "name": "#%%\n"
    }
   },
   "outputs": [],
   "source": [
    "# import zipfile as zf\n",
    "# files = zf.ZipFile(\"/home/khoatm4/Elastic_search/News/Sample_files.zip\", 'r')\n",
    "# files.extractall('/home/khoatm4/Elastic_search/News/')\n",
    "# files.close()"
   ]
  },
  {
   "cell_type": "code",
   "execution_count": 3,
   "id": "9e6d2f5f",
   "metadata": {
    "pycharm": {
     "name": "#%%\n"
    }
   },
   "outputs": [
    {
     "name": "stdout",
     "output_type": "stream",
     "text": [
      "Defaulting to user installation because normal site-packages is not writeable\n",
      "Requirement already satisfied: Elasticsearch in /home/khoatm4/.local/lib/python3.6/site-packages (8.1.2)\n",
      "Requirement already satisfied: elastic-transport<9,>=8 in /home/khoatm4/.local/lib/python3.6/site-packages (from Elasticsearch) (8.1.1)\n",
      "Requirement already satisfied: dataclasses in /home/khoatm4/.local/lib/python3.6/site-packages (from elastic-transport<9,>=8->Elasticsearch) (0.8)\n",
      "Requirement already satisfied: certifi in /usr/local/lib/python3.6/site-packages (from elastic-transport<9,>=8->Elasticsearch) (2021.10.8)\n",
      "Requirement already satisfied: urllib3<2,>=1.26.2 in /usr/local/lib/python3.6/site-packages (from elastic-transport<9,>=8->Elasticsearch) (1.26.7)\n"
     ]
    }
   ],
   "source": [
    "!pip install Elasticsearch"
   ]
  },
  {
   "cell_type": "code",
   "execution_count": 4,
   "id": "fca1ad0d",
   "metadata": {
    "pycharm": {
     "name": "#%%\n"
    }
   },
   "outputs": [],
   "source": [
    "import requests\n",
    "from bs4 import BeautifulSoup\n",
    "import json\n",
    "from datetime import datetime\n",
    "import numpy as np\n",
    "import pandas as pd\n",
    "import os\n",
    "from elasticsearch import Elasticsearch, helpers\n",
    "es = Elasticsearch('http://localhost:9200/')"
   ]
  },
  {
   "cell_type": "code",
   "execution_count": 5,
   "id": "3c17ddb1",
   "metadata": {
    "pycharm": {
     "name": "#%%\n"
    }
   },
   "outputs": [
    {
     "data": {
      "text/plain": [
       "20072"
      ]
     },
     "execution_count": 5,
     "metadata": {},
     "output_type": "execute_result"
    }
   ],
   "source": [
    "list = os.listdir('/home/khoatm4/Elastic_search/News/News_folder')\n",
    "len(list)"
   ]
  },
  {
   "cell_type": "code",
   "execution_count": 6,
   "id": "f515f654",
   "metadata": {
    "pycharm": {
     "name": "#%%\n"
    }
   },
   "outputs": [],
   "source": [
    "path = '/home/khoatm4/Elastic_search/News/News_folder'"
   ]
  },
  {
   "cell_type": "code",
   "execution_count": 7,
   "id": "4b259acd",
   "metadata": {
    "pycharm": {
     "name": "#%%\n"
    }
   },
   "outputs": [
    {
     "name": "stdout",
     "output_type": "stream",
     "text": [
      ".ipynb_checkpoints\n",
      ".DS_Store\n"
     ]
    }
   ],
   "source": [
    "df = pd.DataFrame()\n",
    "for filename in os.listdir(path):\n",
    "    try:\n",
    "        f = os.path.join(path, filename)\n",
    "        file = open(str(f), 'r', encoding='utf-8')\n",
    "        data = json.load(file)\n",
    "\n",
    "        row = pd.json_normalize(data)\n",
    "        df = pd.concat([df, row], ignore_index=True)\n",
    "    except:\n",
    "        print(filename)"
   ]
  },
  {
   "cell_type": "code",
   "execution_count": 8,
   "id": "69e87c8f",
   "metadata": {
    "pycharm": {
     "name": "#%%\n"
    }
   },
   "outputs": [],
   "source": [
    "df['source'] = pd.Series([\"vneconomy\" for x in range(len(df.index))])"
   ]
  },
  {
   "cell_type": "code",
   "execution_count": 9,
   "id": "1a8697bc",
   "metadata": {
    "pycharm": {
     "name": "#%%\n"
    }
   },
   "outputs": [],
   "source": [
    "df = df[(df.Tieude != '') & (df.Body != '') & (df.Publish_time != '')]"
   ]
  },
  {
   "cell_type": "code",
   "execution_count": 10,
   "id": "610a7f83",
   "metadata": {
    "pycharm": {
     "name": "#%%\n"
    }
   },
   "outputs": [
    {
     "data": {
      "text/plain": [
       "Menu             594\n",
       "Tieude             0\n",
       "Anh              578\n",
       "Lienket            0\n",
       "Motangan          46\n",
       "Body               0\n",
       "Publish_time       0\n",
       "Received_time      0\n",
       "source             0\n",
       "dtype: int64"
      ]
     },
     "execution_count": 10,
     "metadata": {},
     "output_type": "execute_result"
    }
   ],
   "source": [
    "(df=='').sum()"
   ]
  },
  {
   "cell_type": "code",
   "execution_count": 11,
   "id": "fe92d531",
   "metadata": {
    "pycharm": {
     "name": "#%%\n"
    }
   },
   "outputs": [
    {
     "data": {
      "text/html": [
       "<div>\n",
       "<style scoped>\n",
       "    .dataframe tbody tr th:only-of-type {\n",
       "        vertical-align: middle;\n",
       "    }\n",
       "\n",
       "    .dataframe tbody tr th {\n",
       "        vertical-align: top;\n",
       "    }\n",
       "\n",
       "    .dataframe thead th {\n",
       "        text-align: right;\n",
       "    }\n",
       "</style>\n",
       "<table border=\"1\" class=\"dataframe\">\n",
       "  <thead>\n",
       "    <tr style=\"text-align: right;\">\n",
       "      <th></th>\n",
       "      <th>Menu</th>\n",
       "      <th>Tieude</th>\n",
       "      <th>Anh</th>\n",
       "      <th>Lienket</th>\n",
       "      <th>Motangan</th>\n",
       "      <th>Body</th>\n",
       "      <th>Publish_time</th>\n",
       "      <th>Received_time</th>\n",
       "      <th>source</th>\n",
       "    </tr>\n",
       "  </thead>\n",
       "  <tbody>\n",
       "    <tr>\n",
       "      <th>0</th>\n",
       "      <td>Tiêu điểm</td>\n",
       "      <td>Thủ tướng yêu cầu không để thiếu hụt nguồn cun...</td>\n",
       "      <td>https://media.vneconomy.vn/w800/images/upload/...</td>\n",
       "      <td>https://vneconomy.vn/thu-tuong-yeu-cau-khong-d...</td>\n",
       "      <td>Thủ tướng giao Bộ Tài chính chủ trì, phối hợp ...</td>\n",
       "      <td>Thủ tướng Chính phủ Phạm Minh Chính vừa ký ba...</td>\n",
       "      <td>1.64561e+09</td>\n",
       "      <td>1.649432e+09</td>\n",
       "      <td>vneconomy</td>\n",
       "    </tr>\n",
       "    <tr>\n",
       "      <th>1</th>\n",
       "      <td>Doanh nghiệp</td>\n",
       "      <td>Doanh nghiệp thủy sản “than thở” vì sắp bị thu...</td>\n",
       "      <td>https://media.vneconomy.vn/w800/images/upload/...</td>\n",
       "      <td>https://vneconomy.vn/doanh-nghiep-thuy-san-tha...</td>\n",
       "      <td>Hiệp hội chế biến và xuất khẩu thủy sản Việt N...</td>\n",
       "      <td>Theo VASEP, trong tuần qua, Hiệp hội này đã n...</td>\n",
       "      <td>1.64615e+09</td>\n",
       "      <td>1.649432e+09</td>\n",
       "      <td>vneconomy</td>\n",
       "    </tr>\n",
       "    <tr>\n",
       "      <th>2</th>\n",
       "      <td>Chứng khoán</td>\n",
       "      <td>3 quỹ đầu tư cùng đăng ký thoái toàn bộ vốn tạ...</td>\n",
       "      <td>https://media.vneconomy.vn/w800/images/upload/...</td>\n",
       "      <td>https://vneconomy.vn/3-quy-dau-tu-cung-dang-ky...</td>\n",
       "      <td>MB Capital, JAMBVF và MBVF muốn bán toàn bộ hơ...</td>\n",
       "      <td>Sở Giao dịch Chứng khoán Tp.HCM (HOSE) thông ...</td>\n",
       "      <td>1.64934e+09</td>\n",
       "      <td>1.649431e+09</td>\n",
       "      <td>vneconomy</td>\n",
       "    </tr>\n",
       "    <tr>\n",
       "      <th>3</th>\n",
       "      <td>Bất động sản</td>\n",
       "      <td>Hàng ngàn hộ dân sống trong chung cư cũ thấp t...</td>\n",
       "      <td>https://media.vneconomy.vn/w800/images/upload/...</td>\n",
       "      <td>https://vneconomy.vn//hang-ngan-ho-dan-song-tr...</td>\n",
       "      <td>Dự thảo Nghị định 101 được hàng chục ngàn hộ g...</td>\n",
       "      <td>Bộ Xây dựng đang lấy ý kiến lần 4 về “Dự thảo...</td>\n",
       "      <td>1.6214e+09</td>\n",
       "      <td>1.643130e+09</td>\n",
       "      <td>vneconomy</td>\n",
       "    </tr>\n",
       "    <tr>\n",
       "      <th>4</th>\n",
       "      <td>Chứng khoán</td>\n",
       "      <td>Nasdaq giảm hai phiên liên tiếp vì nỗi lo lạm ...</td>\n",
       "      <td>https://media.vneconomy.vn/w800/images/upload/...</td>\n",
       "      <td>https://vneconomy.vn//nasdaq-giam-hai-phien-li...</td>\n",
       "      <td>Cổ phiếu công nghệ và các cổ phiếu tăng trưởng...</td>\n",
       "      <td>Chỉ số Nasdaq của thị trường chứng khoán Mỹ g...</td>\n",
       "      <td>1.63774e+09</td>\n",
       "      <td>1.643129e+09</td>\n",
       "      <td>vneconomy</td>\n",
       "    </tr>\n",
       "    <tr>\n",
       "      <th>...</th>\n",
       "      <td>...</td>\n",
       "      <td>...</td>\n",
       "      <td>...</td>\n",
       "      <td>...</td>\n",
       "      <td>...</td>\n",
       "      <td>...</td>\n",
       "      <td>...</td>\n",
       "      <td>...</td>\n",
       "      <td>...</td>\n",
       "    </tr>\n",
       "    <tr>\n",
       "      <th>20064</th>\n",
       "      <td>Doanh nghiệp</td>\n",
       "      <td>Stavian Chemical thành nhà tài trợ kim cương c...</td>\n",
       "      <td>https://media.vneconomy.vn/w800/images/upload/...</td>\n",
       "      <td>https://vneconomy.vn/stavian-chemical-thanh-nh...</td>\n",
       "      <td>Ngày 23/2/2022, Ban tổ chức Đại hội thể thao Đ...</td>\n",
       "      <td>Đại hội Thể thao Đông Nam Á lần thứ 31 năm 20...</td>\n",
       "      <td>1.64563e+09</td>\n",
       "      <td>1.649432e+09</td>\n",
       "      <td>vneconomy</td>\n",
       "    </tr>\n",
       "    <tr>\n",
       "      <th>20066</th>\n",
       "      <td>Chứng khoán</td>\n",
       "      <td>Uỷ ban Chứng khoán ra tay xử phạt hàng loạt cổ...</td>\n",
       "      <td>https://media.vneconomy.vn/w800/images/upload/...</td>\n",
       "      <td>https://vneconomy.vn//uy-ban-chung-khoan-ra-ta...</td>\n",
       "      <td>Những ngày giao dịch cuối cùng của năm cũ 2021...</td>\n",
       "      <td>Cụ thể, ngày 29/12/2021, Ủy ban Chứng khoán N...</td>\n",
       "      <td>1.64112e+09</td>\n",
       "      <td>1.643130e+09</td>\n",
       "      <td>vneconomy</td>\n",
       "    </tr>\n",
       "    <tr>\n",
       "      <th>20067</th>\n",
       "      <td>Chứng khoán</td>\n",
       "      <td>Thanh khoản đang tăng dần chính là nhân tố hỗ ...</td>\n",
       "      <td>https://media.vneconomy.vn/w800/images/upload/...</td>\n",
       "      <td>https://vneconomy.vn/thanh-khoan-dang-tang-dan...</td>\n",
       "      <td>Thị trường trong nước tăng điểm sang phiên thứ...</td>\n",
       "      <td>VnEconomy giới thiệu nhận định và khuyến nghị...</td>\n",
       "      <td>1.64444e+09</td>\n",
       "      <td>1.649431e+09</td>\n",
       "      <td>vneconomy</td>\n",
       "    </tr>\n",
       "    <tr>\n",
       "      <th>20068</th>\n",
       "      <td>Tiêu &amp; Dùng</td>\n",
       "      <td>Cầu thủ Mbappé trở thành Đại sứ toàn cầu mới n...</td>\n",
       "      <td>https://media.vneconomy.vn/w800/images/upload/...</td>\n",
       "      <td>https://vneconomy.vn//cau-thu-mbappe-tro-thanh...</td>\n",
       "      <td>Nhà vô địch bóng đá 22 tuổi Kylian Mbappé đã t...</td>\n",
       "      <td>Cầu thủ trẻ vốn không còn xa lạ với các thiết...</td>\n",
       "      <td>1.64011e+09</td>\n",
       "      <td>1.643129e+09</td>\n",
       "      <td>vneconomy</td>\n",
       "    </tr>\n",
       "    <tr>\n",
       "      <th>20069</th>\n",
       "      <td>Thế giới</td>\n",
       "      <td>Nối gót Mỹ và Trung Quốc, Nhật đầu tư mạnh phá...</td>\n",
       "      <td>https://media.vneconomy.vn/w800/images/upload/...</td>\n",
       "      <td>https://vneconomy.vn//noi-got-my-va-trung-quoc...</td>\n",
       "      <td>Nhật Bản đặt mục tiêu chiếm lĩnh 40% thị phần ...</td>\n",
       "      <td>Trong bối cảnh cuộc khủng hoảng thiếu chíp tà...</td>\n",
       "      <td>1.62142e+09</td>\n",
       "      <td>1.643130e+09</td>\n",
       "      <td>vneconomy</td>\n",
       "    </tr>\n",
       "  </tbody>\n",
       "</table>\n",
       "<p>19901 rows × 9 columns</p>\n",
       "</div>"
      ],
      "text/plain": [
       "               Menu                                             Tieude  \\\n",
       "0         Tiêu điểm  Thủ tướng yêu cầu không để thiếu hụt nguồn cun...   \n",
       "1      Doanh nghiệp  Doanh nghiệp thủy sản “than thở” vì sắp bị thu...   \n",
       "2       Chứng khoán  3 quỹ đầu tư cùng đăng ký thoái toàn bộ vốn tạ...   \n",
       "3      Bất động sản  Hàng ngàn hộ dân sống trong chung cư cũ thấp t...   \n",
       "4       Chứng khoán  Nasdaq giảm hai phiên liên tiếp vì nỗi lo lạm ...   \n",
       "...             ...                                                ...   \n",
       "20064  Doanh nghiệp  Stavian Chemical thành nhà tài trợ kim cương c...   \n",
       "20066   Chứng khoán  Uỷ ban Chứng khoán ra tay xử phạt hàng loạt cổ...   \n",
       "20067   Chứng khoán  Thanh khoản đang tăng dần chính là nhân tố hỗ ...   \n",
       "20068   Tiêu & Dùng  Cầu thủ Mbappé trở thành Đại sứ toàn cầu mới n...   \n",
       "20069      Thế giới  Nối gót Mỹ và Trung Quốc, Nhật đầu tư mạnh phá...   \n",
       "\n",
       "                                                     Anh  \\\n",
       "0      https://media.vneconomy.vn/w800/images/upload/...   \n",
       "1      https://media.vneconomy.vn/w800/images/upload/...   \n",
       "2      https://media.vneconomy.vn/w800/images/upload/...   \n",
       "3      https://media.vneconomy.vn/w800/images/upload/...   \n",
       "4      https://media.vneconomy.vn/w800/images/upload/...   \n",
       "...                                                  ...   \n",
       "20064  https://media.vneconomy.vn/w800/images/upload/...   \n",
       "20066  https://media.vneconomy.vn/w800/images/upload/...   \n",
       "20067  https://media.vneconomy.vn/w800/images/upload/...   \n",
       "20068  https://media.vneconomy.vn/w800/images/upload/...   \n",
       "20069  https://media.vneconomy.vn/w800/images/upload/...   \n",
       "\n",
       "                                                 Lienket  \\\n",
       "0      https://vneconomy.vn/thu-tuong-yeu-cau-khong-d...   \n",
       "1      https://vneconomy.vn/doanh-nghiep-thuy-san-tha...   \n",
       "2      https://vneconomy.vn/3-quy-dau-tu-cung-dang-ky...   \n",
       "3      https://vneconomy.vn//hang-ngan-ho-dan-song-tr...   \n",
       "4      https://vneconomy.vn//nasdaq-giam-hai-phien-li...   \n",
       "...                                                  ...   \n",
       "20064  https://vneconomy.vn/stavian-chemical-thanh-nh...   \n",
       "20066  https://vneconomy.vn//uy-ban-chung-khoan-ra-ta...   \n",
       "20067  https://vneconomy.vn/thanh-khoan-dang-tang-dan...   \n",
       "20068  https://vneconomy.vn//cau-thu-mbappe-tro-thanh...   \n",
       "20069  https://vneconomy.vn//noi-got-my-va-trung-quoc...   \n",
       "\n",
       "                                                Motangan  \\\n",
       "0      Thủ tướng giao Bộ Tài chính chủ trì, phối hợp ...   \n",
       "1      Hiệp hội chế biến và xuất khẩu thủy sản Việt N...   \n",
       "2      MB Capital, JAMBVF và MBVF muốn bán toàn bộ hơ...   \n",
       "3      Dự thảo Nghị định 101 được hàng chục ngàn hộ g...   \n",
       "4      Cổ phiếu công nghệ và các cổ phiếu tăng trưởng...   \n",
       "...                                                  ...   \n",
       "20064  Ngày 23/2/2022, Ban tổ chức Đại hội thể thao Đ...   \n",
       "20066  Những ngày giao dịch cuối cùng của năm cũ 2021...   \n",
       "20067  Thị trường trong nước tăng điểm sang phiên thứ...   \n",
       "20068  Nhà vô địch bóng đá 22 tuổi Kylian Mbappé đã t...   \n",
       "20069  Nhật Bản đặt mục tiêu chiếm lĩnh 40% thị phần ...   \n",
       "\n",
       "                                                    Body Publish_time  \\\n",
       "0       Thủ tướng Chính phủ Phạm Minh Chính vừa ký ba...  1.64561e+09   \n",
       "1       Theo VASEP, trong tuần qua, Hiệp hội này đã n...  1.64615e+09   \n",
       "2       Sở Giao dịch Chứng khoán Tp.HCM (HOSE) thông ...  1.64934e+09   \n",
       "3       Bộ Xây dựng đang lấy ý kiến lần 4 về “Dự thảo...   1.6214e+09   \n",
       "4       Chỉ số Nasdaq của thị trường chứng khoán Mỹ g...  1.63774e+09   \n",
       "...                                                  ...          ...   \n",
       "20064   Đại hội Thể thao Đông Nam Á lần thứ 31 năm 20...  1.64563e+09   \n",
       "20066   Cụ thể, ngày 29/12/2021, Ủy ban Chứng khoán N...  1.64112e+09   \n",
       "20067   VnEconomy giới thiệu nhận định và khuyến nghị...  1.64444e+09   \n",
       "20068   Cầu thủ trẻ vốn không còn xa lạ với các thiết...  1.64011e+09   \n",
       "20069   Trong bối cảnh cuộc khủng hoảng thiếu chíp tà...  1.62142e+09   \n",
       "\n",
       "       Received_time     source  \n",
       "0       1.649432e+09  vneconomy  \n",
       "1       1.649432e+09  vneconomy  \n",
       "2       1.649431e+09  vneconomy  \n",
       "3       1.643130e+09  vneconomy  \n",
       "4       1.643129e+09  vneconomy  \n",
       "...              ...        ...  \n",
       "20064   1.649432e+09  vneconomy  \n",
       "20066   1.643130e+09  vneconomy  \n",
       "20067   1.649431e+09  vneconomy  \n",
       "20068   1.643129e+09  vneconomy  \n",
       "20069   1.643130e+09  vneconomy  \n",
       "\n",
       "[19901 rows x 9 columns]"
      ]
     },
     "execution_count": 11,
     "metadata": {},
     "output_type": "execute_result"
    }
   ],
   "source": [
    "df"
   ]
  },
  {
   "cell_type": "code",
   "execution_count": 12,
   "id": "4c908888",
   "metadata": {
    "pycharm": {
     "name": "#%%\n"
    }
   },
   "outputs": [],
   "source": [
    "df.reset_index(inplace=True, drop=True)"
   ]
  },
  {
   "cell_type": "code",
   "execution_count": 13,
   "id": "d1722d96",
   "metadata": {
    "pycharm": {
     "name": "#%%\n"
    }
   },
   "outputs": [
    {
     "data": {
      "text/html": [
       "<div>\n",
       "<style scoped>\n",
       "    .dataframe tbody tr th:only-of-type {\n",
       "        vertical-align: middle;\n",
       "    }\n",
       "\n",
       "    .dataframe tbody tr th {\n",
       "        vertical-align: top;\n",
       "    }\n",
       "\n",
       "    .dataframe thead th {\n",
       "        text-align: right;\n",
       "    }\n",
       "</style>\n",
       "<table border=\"1\" class=\"dataframe\">\n",
       "  <thead>\n",
       "    <tr style=\"text-align: right;\">\n",
       "      <th></th>\n",
       "      <th>Menu</th>\n",
       "      <th>Tieude</th>\n",
       "      <th>Anh</th>\n",
       "      <th>Lienket</th>\n",
       "      <th>Motangan</th>\n",
       "      <th>Body</th>\n",
       "      <th>Publish_time</th>\n",
       "      <th>Received_time</th>\n",
       "      <th>source</th>\n",
       "    </tr>\n",
       "  </thead>\n",
       "  <tbody>\n",
       "    <tr>\n",
       "      <th>0</th>\n",
       "      <td>Tiêu điểm</td>\n",
       "      <td>Thủ tướng yêu cầu không để thiếu hụt nguồn cun...</td>\n",
       "      <td>https://media.vneconomy.vn/w800/images/upload/...</td>\n",
       "      <td>https://vneconomy.vn/thu-tuong-yeu-cau-khong-d...</td>\n",
       "      <td>Thủ tướng giao Bộ Tài chính chủ trì, phối hợp ...</td>\n",
       "      <td>Thủ tướng Chính phủ Phạm Minh Chính vừa ký ba...</td>\n",
       "      <td>1.64561e+09</td>\n",
       "      <td>1.649432e+09</td>\n",
       "      <td>vneconomy</td>\n",
       "    </tr>\n",
       "    <tr>\n",
       "      <th>1</th>\n",
       "      <td>Doanh nghiệp</td>\n",
       "      <td>Doanh nghiệp thủy sản “than thở” vì sắp bị thu...</td>\n",
       "      <td>https://media.vneconomy.vn/w800/images/upload/...</td>\n",
       "      <td>https://vneconomy.vn/doanh-nghiep-thuy-san-tha...</td>\n",
       "      <td>Hiệp hội chế biến và xuất khẩu thủy sản Việt N...</td>\n",
       "      <td>Theo VASEP, trong tuần qua, Hiệp hội này đã n...</td>\n",
       "      <td>1.64615e+09</td>\n",
       "      <td>1.649432e+09</td>\n",
       "      <td>vneconomy</td>\n",
       "    </tr>\n",
       "    <tr>\n",
       "      <th>2</th>\n",
       "      <td>Chứng khoán</td>\n",
       "      <td>3 quỹ đầu tư cùng đăng ký thoái toàn bộ vốn tạ...</td>\n",
       "      <td>https://media.vneconomy.vn/w800/images/upload/...</td>\n",
       "      <td>https://vneconomy.vn/3-quy-dau-tu-cung-dang-ky...</td>\n",
       "      <td>MB Capital, JAMBVF và MBVF muốn bán toàn bộ hơ...</td>\n",
       "      <td>Sở Giao dịch Chứng khoán Tp.HCM (HOSE) thông ...</td>\n",
       "      <td>1.64934e+09</td>\n",
       "      <td>1.649431e+09</td>\n",
       "      <td>vneconomy</td>\n",
       "    </tr>\n",
       "    <tr>\n",
       "      <th>3</th>\n",
       "      <td>Bất động sản</td>\n",
       "      <td>Hàng ngàn hộ dân sống trong chung cư cũ thấp t...</td>\n",
       "      <td>https://media.vneconomy.vn/w800/images/upload/...</td>\n",
       "      <td>https://vneconomy.vn//hang-ngan-ho-dan-song-tr...</td>\n",
       "      <td>Dự thảo Nghị định 101 được hàng chục ngàn hộ g...</td>\n",
       "      <td>Bộ Xây dựng đang lấy ý kiến lần 4 về “Dự thảo...</td>\n",
       "      <td>1.6214e+09</td>\n",
       "      <td>1.643130e+09</td>\n",
       "      <td>vneconomy</td>\n",
       "    </tr>\n",
       "    <tr>\n",
       "      <th>4</th>\n",
       "      <td>Chứng khoán</td>\n",
       "      <td>Nasdaq giảm hai phiên liên tiếp vì nỗi lo lạm ...</td>\n",
       "      <td>https://media.vneconomy.vn/w800/images/upload/...</td>\n",
       "      <td>https://vneconomy.vn//nasdaq-giam-hai-phien-li...</td>\n",
       "      <td>Cổ phiếu công nghệ và các cổ phiếu tăng trưởng...</td>\n",
       "      <td>Chỉ số Nasdaq của thị trường chứng khoán Mỹ g...</td>\n",
       "      <td>1.63774e+09</td>\n",
       "      <td>1.643129e+09</td>\n",
       "      <td>vneconomy</td>\n",
       "    </tr>\n",
       "    <tr>\n",
       "      <th>...</th>\n",
       "      <td>...</td>\n",
       "      <td>...</td>\n",
       "      <td>...</td>\n",
       "      <td>...</td>\n",
       "      <td>...</td>\n",
       "      <td>...</td>\n",
       "      <td>...</td>\n",
       "      <td>...</td>\n",
       "      <td>...</td>\n",
       "    </tr>\n",
       "    <tr>\n",
       "      <th>19896</th>\n",
       "      <td>Doanh nghiệp</td>\n",
       "      <td>Stavian Chemical thành nhà tài trợ kim cương c...</td>\n",
       "      <td>https://media.vneconomy.vn/w800/images/upload/...</td>\n",
       "      <td>https://vneconomy.vn/stavian-chemical-thanh-nh...</td>\n",
       "      <td>Ngày 23/2/2022, Ban tổ chức Đại hội thể thao Đ...</td>\n",
       "      <td>Đại hội Thể thao Đông Nam Á lần thứ 31 năm 20...</td>\n",
       "      <td>1.64563e+09</td>\n",
       "      <td>1.649432e+09</td>\n",
       "      <td>vneconomy</td>\n",
       "    </tr>\n",
       "    <tr>\n",
       "      <th>19897</th>\n",
       "      <td>Chứng khoán</td>\n",
       "      <td>Uỷ ban Chứng khoán ra tay xử phạt hàng loạt cổ...</td>\n",
       "      <td>https://media.vneconomy.vn/w800/images/upload/...</td>\n",
       "      <td>https://vneconomy.vn//uy-ban-chung-khoan-ra-ta...</td>\n",
       "      <td>Những ngày giao dịch cuối cùng của năm cũ 2021...</td>\n",
       "      <td>Cụ thể, ngày 29/12/2021, Ủy ban Chứng khoán N...</td>\n",
       "      <td>1.64112e+09</td>\n",
       "      <td>1.643130e+09</td>\n",
       "      <td>vneconomy</td>\n",
       "    </tr>\n",
       "    <tr>\n",
       "      <th>19898</th>\n",
       "      <td>Chứng khoán</td>\n",
       "      <td>Thanh khoản đang tăng dần chính là nhân tố hỗ ...</td>\n",
       "      <td>https://media.vneconomy.vn/w800/images/upload/...</td>\n",
       "      <td>https://vneconomy.vn/thanh-khoan-dang-tang-dan...</td>\n",
       "      <td>Thị trường trong nước tăng điểm sang phiên thứ...</td>\n",
       "      <td>VnEconomy giới thiệu nhận định và khuyến nghị...</td>\n",
       "      <td>1.64444e+09</td>\n",
       "      <td>1.649431e+09</td>\n",
       "      <td>vneconomy</td>\n",
       "    </tr>\n",
       "    <tr>\n",
       "      <th>19899</th>\n",
       "      <td>Tiêu &amp; Dùng</td>\n",
       "      <td>Cầu thủ Mbappé trở thành Đại sứ toàn cầu mới n...</td>\n",
       "      <td>https://media.vneconomy.vn/w800/images/upload/...</td>\n",
       "      <td>https://vneconomy.vn//cau-thu-mbappe-tro-thanh...</td>\n",
       "      <td>Nhà vô địch bóng đá 22 tuổi Kylian Mbappé đã t...</td>\n",
       "      <td>Cầu thủ trẻ vốn không còn xa lạ với các thiết...</td>\n",
       "      <td>1.64011e+09</td>\n",
       "      <td>1.643129e+09</td>\n",
       "      <td>vneconomy</td>\n",
       "    </tr>\n",
       "    <tr>\n",
       "      <th>19900</th>\n",
       "      <td>Thế giới</td>\n",
       "      <td>Nối gót Mỹ và Trung Quốc, Nhật đầu tư mạnh phá...</td>\n",
       "      <td>https://media.vneconomy.vn/w800/images/upload/...</td>\n",
       "      <td>https://vneconomy.vn//noi-got-my-va-trung-quoc...</td>\n",
       "      <td>Nhật Bản đặt mục tiêu chiếm lĩnh 40% thị phần ...</td>\n",
       "      <td>Trong bối cảnh cuộc khủng hoảng thiếu chíp tà...</td>\n",
       "      <td>1.62142e+09</td>\n",
       "      <td>1.643130e+09</td>\n",
       "      <td>vneconomy</td>\n",
       "    </tr>\n",
       "  </tbody>\n",
       "</table>\n",
       "<p>19901 rows × 9 columns</p>\n",
       "</div>"
      ],
      "text/plain": [
       "               Menu                                             Tieude  \\\n",
       "0         Tiêu điểm  Thủ tướng yêu cầu không để thiếu hụt nguồn cun...   \n",
       "1      Doanh nghiệp  Doanh nghiệp thủy sản “than thở” vì sắp bị thu...   \n",
       "2       Chứng khoán  3 quỹ đầu tư cùng đăng ký thoái toàn bộ vốn tạ...   \n",
       "3      Bất động sản  Hàng ngàn hộ dân sống trong chung cư cũ thấp t...   \n",
       "4       Chứng khoán  Nasdaq giảm hai phiên liên tiếp vì nỗi lo lạm ...   \n",
       "...             ...                                                ...   \n",
       "19896  Doanh nghiệp  Stavian Chemical thành nhà tài trợ kim cương c...   \n",
       "19897   Chứng khoán  Uỷ ban Chứng khoán ra tay xử phạt hàng loạt cổ...   \n",
       "19898   Chứng khoán  Thanh khoản đang tăng dần chính là nhân tố hỗ ...   \n",
       "19899   Tiêu & Dùng  Cầu thủ Mbappé trở thành Đại sứ toàn cầu mới n...   \n",
       "19900      Thế giới  Nối gót Mỹ và Trung Quốc, Nhật đầu tư mạnh phá...   \n",
       "\n",
       "                                                     Anh  \\\n",
       "0      https://media.vneconomy.vn/w800/images/upload/...   \n",
       "1      https://media.vneconomy.vn/w800/images/upload/...   \n",
       "2      https://media.vneconomy.vn/w800/images/upload/...   \n",
       "3      https://media.vneconomy.vn/w800/images/upload/...   \n",
       "4      https://media.vneconomy.vn/w800/images/upload/...   \n",
       "...                                                  ...   \n",
       "19896  https://media.vneconomy.vn/w800/images/upload/...   \n",
       "19897  https://media.vneconomy.vn/w800/images/upload/...   \n",
       "19898  https://media.vneconomy.vn/w800/images/upload/...   \n",
       "19899  https://media.vneconomy.vn/w800/images/upload/...   \n",
       "19900  https://media.vneconomy.vn/w800/images/upload/...   \n",
       "\n",
       "                                                 Lienket  \\\n",
       "0      https://vneconomy.vn/thu-tuong-yeu-cau-khong-d...   \n",
       "1      https://vneconomy.vn/doanh-nghiep-thuy-san-tha...   \n",
       "2      https://vneconomy.vn/3-quy-dau-tu-cung-dang-ky...   \n",
       "3      https://vneconomy.vn//hang-ngan-ho-dan-song-tr...   \n",
       "4      https://vneconomy.vn//nasdaq-giam-hai-phien-li...   \n",
       "...                                                  ...   \n",
       "19896  https://vneconomy.vn/stavian-chemical-thanh-nh...   \n",
       "19897  https://vneconomy.vn//uy-ban-chung-khoan-ra-ta...   \n",
       "19898  https://vneconomy.vn/thanh-khoan-dang-tang-dan...   \n",
       "19899  https://vneconomy.vn//cau-thu-mbappe-tro-thanh...   \n",
       "19900  https://vneconomy.vn//noi-got-my-va-trung-quoc...   \n",
       "\n",
       "                                                Motangan  \\\n",
       "0      Thủ tướng giao Bộ Tài chính chủ trì, phối hợp ...   \n",
       "1      Hiệp hội chế biến và xuất khẩu thủy sản Việt N...   \n",
       "2      MB Capital, JAMBVF và MBVF muốn bán toàn bộ hơ...   \n",
       "3      Dự thảo Nghị định 101 được hàng chục ngàn hộ g...   \n",
       "4      Cổ phiếu công nghệ và các cổ phiếu tăng trưởng...   \n",
       "...                                                  ...   \n",
       "19896  Ngày 23/2/2022, Ban tổ chức Đại hội thể thao Đ...   \n",
       "19897  Những ngày giao dịch cuối cùng của năm cũ 2021...   \n",
       "19898  Thị trường trong nước tăng điểm sang phiên thứ...   \n",
       "19899  Nhà vô địch bóng đá 22 tuổi Kylian Mbappé đã t...   \n",
       "19900  Nhật Bản đặt mục tiêu chiếm lĩnh 40% thị phần ...   \n",
       "\n",
       "                                                    Body Publish_time  \\\n",
       "0       Thủ tướng Chính phủ Phạm Minh Chính vừa ký ba...  1.64561e+09   \n",
       "1       Theo VASEP, trong tuần qua, Hiệp hội này đã n...  1.64615e+09   \n",
       "2       Sở Giao dịch Chứng khoán Tp.HCM (HOSE) thông ...  1.64934e+09   \n",
       "3       Bộ Xây dựng đang lấy ý kiến lần 4 về “Dự thảo...   1.6214e+09   \n",
       "4       Chỉ số Nasdaq của thị trường chứng khoán Mỹ g...  1.63774e+09   \n",
       "...                                                  ...          ...   \n",
       "19896   Đại hội Thể thao Đông Nam Á lần thứ 31 năm 20...  1.64563e+09   \n",
       "19897   Cụ thể, ngày 29/12/2021, Ủy ban Chứng khoán N...  1.64112e+09   \n",
       "19898   VnEconomy giới thiệu nhận định và khuyến nghị...  1.64444e+09   \n",
       "19899   Cầu thủ trẻ vốn không còn xa lạ với các thiết...  1.64011e+09   \n",
       "19900   Trong bối cảnh cuộc khủng hoảng thiếu chíp tà...  1.62142e+09   \n",
       "\n",
       "       Received_time     source  \n",
       "0       1.649432e+09  vneconomy  \n",
       "1       1.649432e+09  vneconomy  \n",
       "2       1.649431e+09  vneconomy  \n",
       "3       1.643130e+09  vneconomy  \n",
       "4       1.643129e+09  vneconomy  \n",
       "...              ...        ...  \n",
       "19896   1.649432e+09  vneconomy  \n",
       "19897   1.643130e+09  vneconomy  \n",
       "19898   1.649431e+09  vneconomy  \n",
       "19899   1.643129e+09  vneconomy  \n",
       "19900   1.643130e+09  vneconomy  \n",
       "\n",
       "[19901 rows x 9 columns]"
      ]
     },
     "execution_count": 13,
     "metadata": {},
     "output_type": "execute_result"
    }
   ],
   "source": [
    "df"
   ]
  },
  {
   "cell_type": "code",
   "execution_count": 15,
   "id": "a3e210c9",
   "metadata": {
    "pycharm": {
     "name": "#%%\n"
    }
   },
   "outputs": [
    {
     "data": {
      "text/plain": [
       "(19901, [])"
      ]
     },
     "execution_count": 15,
     "metadata": {},
     "output_type": "execute_result"
    }
   ],
   "source": [
    "def doc_generator(df):\n",
    "    for i in df.index:\n",
    "        yield {\n",
    "                \"_index\": 'tin_tuc_moi_nhat',\n",
    "                #\"_type\": \"_doc\",\n",
    "                \"_id\" : i,\n",
    "                \"_source\": dict(df.iloc[i]),\n",
    "            }\n",
    "    raise StopIteration\n",
    "\n",
    "helpers.bulk(es, doc_generator(df))"
   ]
  },
  {
   "cell_type": "code",
   "execution_count": null,
   "id": "c8fe9b1e",
   "metadata": {
    "pycharm": {
     "name": "#%%\n"
    }
   },
   "outputs": [],
   "source": []
  }
 ],
 "metadata": {
  "kernelspec": {
   "display_name": "Python 3",
   "language": "python",
   "name": "python3"
  },
  "language_info": {
   "codemirror_mode": {
    "name": "ipython",
    "version": 3
   },
   "file_extension": ".py",
   "mimetype": "text/x-python",
   "name": "python",
   "nbconvert_exporter": "python",
   "pygments_lexer": "ipython3",
   "version": "3.6.8"
  }
 },
 "nbformat": 4,
 "nbformat_minor": 5
}